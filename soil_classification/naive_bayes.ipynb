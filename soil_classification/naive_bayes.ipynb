{
  "nbformat": 4,
  "nbformat_minor": 0,
  "metadata": {
    "kernelspec": {
      "display_name": "Python 3",
      "language": "python",
      "name": "python3"
    },
    "language_info": {
      "name": "python",
      "version": "3.6.6",
      "mimetype": "text/x-python",
      "codemirror_mode": {
        "name": "ipython",
        "version": 3
      },
      "pygments_lexer": "ipython3",
      "nbconvert_exporter": "python",
      "file_extension": ".py"
    },
    "colab": {
      "name": "naive_bayes.ipynb",
      "provenance": [],
      "include_colab_link": true
    }
  },
  "cells": [
    {
      "cell_type": "markdown",
      "metadata": {
        "id": "view-in-github",
        "colab_type": "text"
      },
      "source": [
        "<a href=\"https://colab.research.google.com/github/kavyajeetbora/civil_engineering/blob/master/soil_classification/naive_bayes.ipynb\" target=\"_parent\"><img src=\"https://colab.research.google.com/assets/colab-badge.svg\" alt=\"Open In Colab\"/></a>"
      ]
    },
    {
      "cell_type": "code",
      "metadata": {
        "_uuid": "8f2839f25d086af736a60e9eeb907d3b93b6e0e5",
        "_cell_guid": "b1076dfc-b9ad-4769-8c92-a6c4dae69d19",
        "trusted": true,
        "id": "TbQY-Usje8Ui",
        "colab_type": "code",
        "colab": {}
      },
      "source": [
        "import numpy as np # linear algebra\n",
        "import pandas as pd # data processing, CSV file I/O (e.g. pd.read_csv)\n",
        "import matplotlib.pyplot as plt\n",
        "from matplotlib.patches import Rectangle"
      ],
      "execution_count": 1,
      "outputs": []
    },
    {
      "cell_type": "code",
      "metadata": {
        "_cell_guid": "79c7e3d0-c299-4dcb-8224-4455121ee9b0",
        "_uuid": "d629ff2d2480ee46fbb7e2d37f6b5fab8052498a",
        "trusted": true,
        "_kg_hide-input": true,
        "id": "AKK93DUke8Um",
        "colab_type": "code",
        "colab": {
          "base_uri": "https://localhost:8080/",
          "height": 204
        },
        "outputId": "3f0139d7-63f4-461e-d39a-ec846c30d4b3"
      },
      "source": [
        "raw_data = pd.read_csv('https://raw.githubusercontent.com/kavyajeetbora/civil_engineering/master/soil_classification/boreholes4.csv')\n",
        "raw_data.head()"
      ],
      "execution_count": 3,
      "outputs": [
        {
          "output_type": "execute_result",
          "data": {
            "text/html": [
              "<div>\n",
              "<style scoped>\n",
              "    .dataframe tbody tr th:only-of-type {\n",
              "        vertical-align: middle;\n",
              "    }\n",
              "\n",
              "    .dataframe tbody tr th {\n",
              "        vertical-align: top;\n",
              "    }\n",
              "\n",
              "    .dataframe thead th {\n",
              "        text-align: right;\n",
              "    }\n",
              "</style>\n",
              "<table border=\"1\" class=\"dataframe\">\n",
              "  <thead>\n",
              "    <tr style=\"text-align: right;\">\n",
              "      <th></th>\n",
              "      <th>borehole</th>\n",
              "      <th>chainage</th>\n",
              "      <th>depth</th>\n",
              "      <th>type</th>\n",
              "    </tr>\n",
              "  </thead>\n",
              "  <tbody>\n",
              "    <tr>\n",
              "      <th>0</th>\n",
              "      <td>bh1</td>\n",
              "      <td>0</td>\n",
              "      <td>0.0</td>\n",
              "      <td>fill</td>\n",
              "    </tr>\n",
              "    <tr>\n",
              "      <th>1</th>\n",
              "      <td>bh1</td>\n",
              "      <td>0</td>\n",
              "      <td>1.5</td>\n",
              "      <td>fill</td>\n",
              "    </tr>\n",
              "    <tr>\n",
              "      <th>2</th>\n",
              "      <td>bh1</td>\n",
              "      <td>0</td>\n",
              "      <td>3.0</td>\n",
              "      <td>HW_breccia</td>\n",
              "    </tr>\n",
              "    <tr>\n",
              "      <th>3</th>\n",
              "      <td>bh1</td>\n",
              "      <td>0</td>\n",
              "      <td>4.5</td>\n",
              "      <td>HW_breccia</td>\n",
              "    </tr>\n",
              "    <tr>\n",
              "      <th>4</th>\n",
              "      <td>bh1</td>\n",
              "      <td>0</td>\n",
              "      <td>6.0</td>\n",
              "      <td>HW_breccia</td>\n",
              "    </tr>\n",
              "  </tbody>\n",
              "</table>\n",
              "</div>"
            ],
            "text/plain": [
              "  borehole  chainage  depth        type\n",
              "0      bh1         0    0.0        fill\n",
              "1      bh1         0    1.5        fill\n",
              "2      bh1         0    3.0  HW_breccia\n",
              "3      bh1         0    4.5  HW_breccia\n",
              "4      bh1         0    6.0  HW_breccia"
            ]
          },
          "metadata": {
            "tags": []
          },
          "execution_count": 3
        }
      ]
    },
    {
      "cell_type": "code",
      "metadata": {
        "trusted": true,
        "_uuid": "340409b08157f196743cc48e640dc479dbef03f2",
        "id": "nIC4OxUDe8Up",
        "colab_type": "code",
        "colab": {}
      },
      "source": [
        "# data preprocessing\n",
        "chainages = raw_data['chainage'].unique()\n",
        "boreholes = raw_data['borehole'].unique()\n",
        "\n",
        "other_bhs = boreholes[1:]\n",
        "frames = [raw_data] \n",
        "\n",
        "means = []\n",
        "for i in range(len(chainages)):\n",
        "    if (i+1 == len(chainages)):\n",
        "        break\n",
        "    else:\n",
        "        mean = (chainages[i]+chainages[i+1])/2\n",
        "        means.append(mean)\n",
        "\n",
        "for index,current_bh in enumerate(other_bhs):\n",
        "    preprocessing = raw_data[raw_data['borehole']==current_bh].copy()\n",
        "    preprocessing['borehole'] = current_bh+'_pp'\n",
        "    preprocessing['chainage'] = means[index]\n",
        "    \n",
        "    frames.append(preprocessing)\n",
        "    \n",
        "data = pd.concat(frames,axis=0)"
      ],
      "execution_count": 4,
      "outputs": []
    },
    {
      "cell_type": "code",
      "metadata": {
        "trusted": true,
        "_uuid": "2799818ea96f2479cfe877f40b922276bc56a4aa",
        "id": "jzB5Hntke8Ur",
        "colab_type": "code",
        "colab": {
          "base_uri": "https://localhost:8080/",
          "height": 34
        },
        "outputId": "1f09df23-7cda-4d59-e27d-64c576cc48cf"
      },
      "source": [
        "soil_types = list(data['type'].unique())\n",
        "soil_types"
      ],
      "execution_count": 5,
      "outputs": [
        {
          "output_type": "execute_result",
          "data": {
            "text/plain": [
              "['fill', 'HW_breccia', 'MW_breccia', 'SW_breccia', 'clay']"
            ]
          },
          "metadata": {
            "tags": []
          },
          "execution_count": 5
        }
      ]
    },
    {
      "cell_type": "code",
      "metadata": {
        "trusted": true,
        "_uuid": "51dcc09e9db0de78e6be4d74622dc93fe31ccf79",
        "id": "aN4cDIRXe8Ut",
        "colab_type": "code",
        "colab": {}
      },
      "source": [
        "# 1. Seperate the data into dependent and independent variables\n",
        "X = data.iloc[:,1:3].values\n",
        "Y = np.array(data.iloc[:,3]).reshape(-1,1)\n",
        "# 2. then convert the dependent variables into different class usnig onehotencoder class -> beware of the dummy variable trap\n",
        "# 3. then to choose the classification models"
      ],
      "execution_count": 6,
      "outputs": []
    },
    {
      "cell_type": "code",
      "metadata": {
        "trusted": true,
        "_uuid": "542b164c4c47417000430060c8b5fb0b93fe76f9",
        "id": "NETsmTxfe8Uv",
        "colab_type": "code",
        "colab": {
          "base_uri": "https://localhost:8080/",
          "height": 34
        },
        "outputId": "cdc203c2-2972-452f-d525-4a104ad325b7"
      },
      "source": [
        "from sklearn.preprocessing import LabelEncoder\n",
        "encoder = LabelEncoder()\n",
        "Y_encode = encoder.fit_transform(Y.ravel())\n",
        "Y_encode[0:5], encoder.transform(['HW_breccia'])"
      ],
      "execution_count": 7,
      "outputs": [
        {
          "output_type": "execute_result",
          "data": {
            "text/plain": [
              "(array([4, 4, 0, 0, 0]), array([0]))"
            ]
          },
          "metadata": {
            "tags": []
          },
          "execution_count": 7
        }
      ]
    },
    {
      "cell_type": "code",
      "metadata": {
        "trusted": true,
        "_uuid": "23dbcda2e58167d9369cebb5c6256c9bf7b86608",
        "id": "dyQMGexZe8Ux",
        "colab_type": "code",
        "colab": {
          "base_uri": "https://localhost:8080/",
          "height": 34
        },
        "outputId": "a34bfe41-06a3-4e2c-d0cc-3429f0114c39"
      },
      "source": [
        "# modelling using Naive Bayes Classification\n",
        "from sklearn.naive_bayes import GaussianNB\n",
        "classifier = GaussianNB()\n",
        "classifier.fit(X,Y_encode)"
      ],
      "execution_count": 24,
      "outputs": [
        {
          "output_type": "execute_result",
          "data": {
            "text/plain": [
              "GaussianNB(priors=None, var_smoothing=1e-09)"
            ]
          },
          "metadata": {
            "tags": []
          },
          "execution_count": 24
        }
      ]
    },
    {
      "cell_type": "code",
      "metadata": {
        "trusted": true,
        "_uuid": "743deb07aaf7d2df624e7ad1f343a29960093c2b",
        "id": "NQ_Wqde8e8U0",
        "colab_type": "code",
        "colab": {
          "base_uri": "https://localhost:8080/",
          "height": 34
        },
        "outputId": "9356e512-4973-47a8-fb69-4b333053213a"
      },
      "source": [
        "# prediction\n",
        "value = classifier.predict(np.array([40,25]).reshape(-1,2))\n",
        "encoder.inverse_transform(value)\n",
        "# sorting the soil types as per label value for plotting purpose\n",
        "sorted_soil_types = list([encoder.inverse_transform([x])[0] for x in range(len(soil_types))])\n",
        "sorted_soil_types"
      ],
      "execution_count": 25,
      "outputs": [
        {
          "output_type": "execute_result",
          "data": {
            "text/plain": [
              "['HW_breccia', 'MW_breccia', 'SW_breccia', 'clay', 'fill']"
            ]
          },
          "metadata": {
            "tags": []
          },
          "execution_count": 25
        }
      ]
    },
    {
      "cell_type": "code",
      "metadata": {
        "trusted": true,
        "_uuid": "04d1825ec21fbf607e7a9a77a458055d49050283",
        "id": "KRjZxCSre8U2",
        "colab_type": "code",
        "colab": {
          "base_uri": "https://localhost:8080/",
          "height": 34
        },
        "outputId": "d4e5c601-785a-4d0b-ff7b-e8b04bfb2b6e"
      },
      "source": [
        "from IPython.display import Image\n",
        "Image(\"../input/images/As_built_bh_data.png\")"
      ],
      "execution_count": 26,
      "outputs": [
        {
          "output_type": "execute_result",
          "data": {
            "image/png": "../input/images/As_built_bh_data.png",
            "text/plain": [
              "<IPython.core.display.Image object>"
            ]
          },
          "metadata": {
            "tags": []
          },
          "execution_count": 26
        }
      ]
    },
    {
      "cell_type": "code",
      "metadata": {
        "trusted": true,
        "_uuid": "65a319773bb4299382c600c87e3864df74eaa4e2",
        "id": "-hZJKigTe8U4",
        "colab_type": "code",
        "colab": {
          "base_uri": "https://localhost:8080/",
          "height": 340
        },
        "outputId": "de04e2a9-efe0-4e56-b32a-27ee3543b3e2"
      },
      "source": [
        "# plotting the classification\n",
        "from matplotlib.colors import ListedColormap\n",
        "x1 = np.linspace(min(X[:,0])-10,max(X[:,0])+10,num=50)\n",
        "x2 = np.linspace(min(X[:,1]),max(X[:,1]),num=50)\n",
        "\n",
        "n1 = len(x1)\n",
        "n2 = len(x2)\n",
        "\n",
        "X1_grid,X2_grid = np.meshgrid(x1,x2) # for plotting\n",
        "Y_grid = np.zeros((n2,n1))\n",
        "for i in range(n1):\n",
        "    for j in range(n2):\n",
        "        p,v = x1[i],x2[j]\n",
        "        soil = classifier.predict(np.array([p,v]).reshape(-1,2))\n",
        "        soil = encoder.inverse_transform(soil)\n",
        "        Y_grid[j,i] = encoder.transform(soil)\n",
        "        \n",
        "        # for debugging the 2D matrix\n",
        "        #print(soil,p,v,Y_grid[j,i])\n",
        "        #print('=====')\n",
        "        #break \n",
        "\n",
        "# Plotting the values\n",
        "fig = plt.figure(figsize=(20,7)) \n",
        "ax = fig.add_subplot(111)\n",
        "contour = ax.contourf(X1_grid,X2_grid,Y_grid,cmap=plt.get_cmap('jet'),levels=[-1,0,1,2,3,4])\n",
        "proxy = [Rectangle((0,0),1,1,fc = pc.get_facecolor()[0]) for pc in contour.collections]\n",
        "ax.legend(proxy, sorted_soil_types)\n",
        "#ax.legend()\n",
        "ax.invert_yaxis()\n",
        "ax.set_xlabel('Chainage')\n",
        "ax.set_ylabel('Depth (m)')\n",
        "\n",
        "# plot the borehole locations\n",
        "for name, group in raw_data.groupby(['borehole','chainage']):\n",
        "    bh,chainage = name[0],name[1]\n",
        "    ax.plot([chainage,chainage],[0,30],color='k')\n",
        "    ax.text(x=chainage,y=-1,s=bh,fontsize=16)"
      ],
      "execution_count": 27,
      "outputs": [
        {
          "output_type": "display_data",
          "data": {
            "image/png": "[encoded data removed]",
            "text/plain": [
              "<Figure size 1440x504 with 1 Axes>"
            ]
          },
          "metadata": {
            "tags": [],
            "needs_background": "light"
          }
        }
      ]
    },
    {
      "cell_type": "markdown",
      "metadata": {
        "_uuid": "874ac51d2573f2828dac3cbfd8ed5db2a11e1e8f",
        "id": "pP5r5a7Ye8U6",
        "colab_type": "text"
      },
      "source": [
        "![](http://)"
      ]
    }
  ]
}