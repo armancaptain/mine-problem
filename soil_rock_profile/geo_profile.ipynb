{
 "cells": [
  {
   "cell_type": "code",
   "execution_count": 56,
   "metadata": {},
   "outputs": [],
   "source": [
    "import pandas as pd\n",
    "import numpy as np\n",
    "import scipy.stats as stats\n",
    "import statsmodels.formula.api as smf\n",
    "import matplotlib.pyplot as plt"
   ]
  },
  {
   "cell_type": "code",
   "execution_count": 57,
   "metadata": {},
   "outputs": [],
   "source": [
    "df = pd.read_csv('ucs_rqd_data.csv')"
   ]
  },
  {
   "cell_type": "code",
   "execution_count": 58,
   "metadata": {},
   "outputs": [
    {
     "data": {
      "text/html": [
       "<div>\n",
       "<style scoped>\n",
       "    .dataframe tbody tr th:only-of-type {\n",
       "        vertical-align: middle;\n",
       "    }\n",
       "\n",
       "    .dataframe tbody tr th {\n",
       "        vertical-align: top;\n",
       "    }\n",
       "\n",
       "    .dataframe thead th {\n",
       "        text-align: right;\n",
       "    }\n",
       "</style>\n",
       "<table border=\"1\" class=\"dataframe\">\n",
       "  <thead>\n",
       "    <tr style=\"text-align: right;\">\n",
       "      <th></th>\n",
       "      <th>bh_no</th>\n",
       "      <th>Depth</th>\n",
       "      <th>easting</th>\n",
       "      <th>northing</th>\n",
       "      <th>R.L</th>\n",
       "      <th>Condition</th>\n",
       "      <th>UCS</th>\n",
       "      <th>RQD</th>\n",
       "    </tr>\n",
       "  </thead>\n",
       "  <tbody>\n",
       "    <tr>\n",
       "      <th>0</th>\n",
       "      <td>1</td>\n",
       "      <td>8.25</td>\n",
       "      <td>276816.883</td>\n",
       "      <td>2114086.734</td>\n",
       "      <td>4.25</td>\n",
       "      <td>Soak</td>\n",
       "      <td>8.52</td>\n",
       "      <td>0.0</td>\n",
       "    </tr>\n",
       "    <tr>\n",
       "      <th>1</th>\n",
       "      <td>1</td>\n",
       "      <td>11.25</td>\n",
       "      <td>276816.883</td>\n",
       "      <td>2114086.734</td>\n",
       "      <td>1.25</td>\n",
       "      <td>Soak</td>\n",
       "      <td>29.61</td>\n",
       "      <td>39.0</td>\n",
       "    </tr>\n",
       "    <tr>\n",
       "      <th>2</th>\n",
       "      <td>1</td>\n",
       "      <td>14.25</td>\n",
       "      <td>276816.883</td>\n",
       "      <td>2114086.734</td>\n",
       "      <td>-1.75</td>\n",
       "      <td>Unsoak</td>\n",
       "      <td>32.95</td>\n",
       "      <td>54.0</td>\n",
       "    </tr>\n",
       "    <tr>\n",
       "      <th>3</th>\n",
       "      <td>1</td>\n",
       "      <td>17.25</td>\n",
       "      <td>276816.883</td>\n",
       "      <td>2114086.734</td>\n",
       "      <td>-4.75</td>\n",
       "      <td>Soak</td>\n",
       "      <td>14.70</td>\n",
       "      <td>23.0</td>\n",
       "    </tr>\n",
       "    <tr>\n",
       "      <th>4</th>\n",
       "      <td>1</td>\n",
       "      <td>20.25</td>\n",
       "      <td>276816.883</td>\n",
       "      <td>2114086.734</td>\n",
       "      <td>-7.75</td>\n",
       "      <td>Soak</td>\n",
       "      <td>1.68</td>\n",
       "      <td>66.0</td>\n",
       "    </tr>\n",
       "  </tbody>\n",
       "</table>\n",
       "</div>"
      ],
      "text/plain": [
       "   bh_no  Depth     easting     northing   R.L Condition    UCS   RQD\n",
       "0      1   8.25  276816.883  2114086.734  4.25     Soak    8.52   0.0\n",
       "1      1  11.25  276816.883  2114086.734  1.25     Soak   29.61  39.0\n",
       "2      1  14.25  276816.883  2114086.734 -1.75   Unsoak   32.95  54.0\n",
       "3      1  17.25  276816.883  2114086.734 -4.75     Soak   14.70  23.0\n",
       "4      1  20.25  276816.883  2114086.734 -7.75     Soak    1.68  66.0"
      ]
     },
     "execution_count": 58,
     "metadata": {},
     "output_type": "execute_result"
    }
   ],
   "source": [
    "df.head()"
   ]
  },
  {
   "cell_type": "code",
   "execution_count": 59,
   "metadata": {},
   "outputs": [
    {
     "data": {
      "text/plain": [
       "Text(0,0.5,'Frequency')"
      ]
     },
     "execution_count": 59,
     "metadata": {},
     "output_type": "execute_result"
    },
    {
     "data": {
      "image/png": "[encoded data removed]",
      "text/plain": [
       "<Figure size 1080x720 with 4 Axes>"
      ]
     },
     "metadata": {},
     "output_type": "display_data"
    }
   ],
   "source": [
    "# Descriptive statistics\n",
    "fig = plt.figure()\n",
    "fig.set_size_inches(15,10)\n",
    "\n",
    "ax1 = plt.subplot(221)\n",
    "ax1.scatter(df['UCS'],df['Depth'])\n",
    "ax1.set_ylabel('Depth (m)')\n",
    "ax1.set_xlabel('UCS (MPa)')\n",
    "ax1.invert_yaxis()\n",
    "\n",
    "ax2 = plt.subplot(222)\n",
    "ax2.hist(df['UCS'])\n",
    "ax2.set_xlabel('UCS (MPa)')\n",
    "ax2.set_ylabel('Frequency')\n",
    "\n",
    "ax3 = plt.subplot(223)\n",
    "ax3.scatter(df['RQD'],df['Depth'])\n",
    "ax3.set_ylabel('Depth (m)')\n",
    "ax3.set_xlabel('RQD (%)')\n",
    "ax3.invert_yaxis()\n",
    "\n",
    "ax4 = plt.subplot(224)\n",
    "ax4.hist(df['RQD'])\n",
    "ax4.set_xlabel('RQD (%)')\n",
    "ax4.set_ylabel('Frequency')"
   ]
  },
  {
   "cell_type": "code",
   "execution_count": 60,
   "metadata": {},
   "outputs": [
    {
     "data": {
      "text/plain": [
       "0.10293909922681589"
      ]
     },
     "execution_count": 60,
     "metadata": {},
     "output_type": "execute_result"
    }
   ],
   "source": [
    "# check the correlation\n",
    "stats.pearsonr(df['UCS'],df['Depth'])[0]"
   ]
  },
  {
   "cell_type": "markdown",
   "metadata": {},
   "source": [
    "Only 10% of the variability of UCS can be explained by depth"
   ]
  },
  {
   "cell_type": "code",
   "execution_count": 61,
   "metadata": {},
   "outputs": [
    {
     "data": {
      "text/plain": [
       "0.38000786574157075"
      ]
     },
     "execution_count": 61,
     "metadata": {},
     "output_type": "execute_result"
    }
   ],
   "source": [
    "# correlation between RQD and Depth\n",
    "stats.pearsonr(df['RQD'],df['Depth'])[0]"
   ]
  },
  {
   "cell_type": "markdown",
   "metadata": {},
   "source": [
    "38% of the varibility in RQD can be explained by depth"
   ]
  },
  {
   "cell_type": "code",
   "execution_count": 62,
   "metadata": {},
   "outputs": [
    {
     "data": {
      "text/plain": [
       "0.05621456857887025"
      ]
     },
     "execution_count": 62,
     "metadata": {},
     "output_type": "execute_result"
    }
   ],
   "source": [
    "stats.pearsonr(df['UCS'],df['RQD'])[0]"
   ]
  },
  {
   "cell_type": "markdown",
   "metadata": {},
   "source": [
    "We can say RQD and UCS are independent variables since there is no correlation between them"
   ]
  },
  {
   "cell_type": "markdown",
   "metadata": {},
   "source": [
    "Rock Mass Rating\n",
    "-----"
   ]
  },
  {
   "cell_type": "markdown",
   "metadata": {},
   "source": [
    "In this section, we will be evalualting the RMR values based on given UCS and RQD values only. "
   ]
  },
  {
   "cell_type": "code",
   "execution_count": 63,
   "metadata": {},
   "outputs": [],
   "source": [
    "data = df.copy()\n",
    "\n",
    "def pearson_coeff(x,y):\n",
    "    x = np.asarray(x)\n",
    "    y = np.asarray(y)\n",
    "    \n",
    "    xmean = np.mean(x)\n",
    "    ymean = np.mean(y)\n",
    "    std_x = np.std(x)\n",
    "    std_y = np.std(y)\n",
    "    \n",
    "    xi = [(val-xmean)/std_x for val in x] \n",
    "    yi = [(val-ymean)/std_y for val in y]\n",
    "    \n",
    "    return sum(xi*np.transpose(yi))/len(x)\n",
    "\n",
    "def leastSquares(xs,ys):\n",
    "    r = pearson_coeff(xs,ys)\n",
    "    slope = r*(np.std(ys)/np.std(xs))\n",
    "    intercept = np.mean(ys)-slope*np.mean(xs)\n",
    "    return slope,intercept\n",
    "\n",
    "def fitLine(xs,slope,intercept):\n",
    "    fit_xs = np.sort(xs)\n",
    "    fit_ys = fit_xs*slope+intercept\n",
    "    return fit_xs,fit_ys"
   ]
  },
  {
   "cell_type": "code",
   "execution_count": 64,
   "metadata": {},
   "outputs": [
    {
     "data": {
      "text/plain": [
       "[<matplotlib.lines.Line2D at 0x2427320c6a0>]"
      ]
     },
     "execution_count": 64,
     "metadata": {},
     "output_type": "execute_result"
    },
    {
     "data": {
      "image/png": "[encoded data removed]",
      "text/plain": [
       "<Figure size 1080x360 with 2 Axes>"
      ]
     },
     "metadata": {},
     "output_type": "display_data"
    }
   ],
   "source": [
    "# IS code tables\n",
    "# linear model for predicting the ucs rating\n",
    "ucs = np.array([0,6,17.5,37.5,75,170.5,250])\n",
    "ucs_rating= [0,1,2,4,7,12,15]\n",
    "\n",
    "d1 = dict(ucs=ucs,rating=ucs_rating,ucs2=ucs**2)\n",
    "ucs_df = pd.DataFrame(d1)\n",
    "ucs_formula = 'rating~ucs+ucs2'\n",
    "ucs_result = smf.ols(ucs_formula,data=ucs_df).fit()\n",
    "\n",
    "# linear model for predicting RQD rating\n",
    "rqd = [95,82.5,67.5,37.5,12.5,0]\n",
    "rqd_rating = [20,17,13,8,3,0]\n",
    "\n",
    "d2 = dict(rqd=rqd,rating=rqd_rating)\n",
    "rqd_df = pd.DataFrame(d2)\n",
    "rqd_formula = 'rating~rqd'\n",
    "rqd_result = smf.ols(rqd_formula,data=rqd_df).fit()\n",
    "\n",
    "\n",
    "## Plotting\n",
    "figure = plt.figure()\n",
    "figure.set_size_inches(15,5)\n",
    "\n",
    "ax1 = plt.subplot(121)\n",
    "ax1.scatter(ucs,ucs_rating)\n",
    "ax1.plot(ucs,ucs_result.predict())\n",
    "\n",
    "ax2 = plt.subplot(122)\n",
    "ax2.scatter(rqd,rqd_rating)\n",
    "ax2.plot(rqd,rqd_result.predict())\n"
   ]
  },
  {
   "cell_type": "code",
   "execution_count": 65,
   "metadata": {},
   "outputs": [
    {
     "data": {
      "text/plain": [
       "(0.9980304114504743, 0.9960780195363895)"
      ]
     },
     "execution_count": 65,
     "metadata": {},
     "output_type": "execute_result"
    }
   ],
   "source": [
    "ucs_result.rsquared,rqd_result.rsquared"
   ]
  },
  {
   "cell_type": "markdown",
   "metadata": {},
   "source": [
    "Evaluating the RMR as per standard codes"
   ]
  },
  {
   "cell_type": "code",
   "execution_count": 66,
   "metadata": {},
   "outputs": [],
   "source": [
    "data['ucs'] = data['UCS']\n",
    "data['ucs2'] = data['UCS']**2\n",
    "\n",
    "data['rqd'] = data['RQD']\n",
    "\n",
    "data['ucs_rating'] = ucs_result.predict(data)\n",
    "data['rqd_rating'] = rqd_result.predict(data)\n",
    "data['rmr'] = (data['ucs_rating']+data['rqd_rating'])/35*100"
   ]
  },
  {
   "cell_type": "code",
   "execution_count": 67,
   "metadata": {},
   "outputs": [
    {
     "data": {
      "text/html": [
       "<div>\n",
       "<style scoped>\n",
       "    .dataframe tbody tr th:only-of-type {\n",
       "        vertical-align: middle;\n",
       "    }\n",
       "\n",
       "    .dataframe tbody tr th {\n",
       "        vertical-align: top;\n",
       "    }\n",
       "\n",
       "    .dataframe thead th {\n",
       "        text-align: right;\n",
       "    }\n",
       "</style>\n",
       "<table border=\"1\" class=\"dataframe\">\n",
       "  <thead>\n",
       "    <tr style=\"text-align: right;\">\n",
       "      <th></th>\n",
       "      <th>Depth</th>\n",
       "      <th>easting</th>\n",
       "      <th>northing</th>\n",
       "      <th>R.L</th>\n",
       "      <th>UCS</th>\n",
       "      <th>RQD</th>\n",
       "      <th>rmr</th>\n",
       "    </tr>\n",
       "  </thead>\n",
       "  <tbody>\n",
       "    <tr>\n",
       "      <th>0</th>\n",
       "      <td>8.25</td>\n",
       "      <td>276816.883</td>\n",
       "      <td>2114086.734</td>\n",
       "      <td>4.25</td>\n",
       "      <td>8.52</td>\n",
       "      <td>0.0</td>\n",
       "      <td>3.697130</td>\n",
       "    </tr>\n",
       "    <tr>\n",
       "      <th>1</th>\n",
       "      <td>11.25</td>\n",
       "      <td>276816.883</td>\n",
       "      <td>2114086.734</td>\n",
       "      <td>1.25</td>\n",
       "      <td>29.61</td>\n",
       "      <td>39.0</td>\n",
       "      <td>31.935841</td>\n",
       "    </tr>\n",
       "    <tr>\n",
       "      <th>2</th>\n",
       "      <td>14.25</td>\n",
       "      <td>276816.883</td>\n",
       "      <td>2114086.734</td>\n",
       "      <td>-1.75</td>\n",
       "      <td>32.95</td>\n",
       "      <td>54.0</td>\n",
       "      <td>41.511956</td>\n",
       "    </tr>\n",
       "    <tr>\n",
       "      <th>3</th>\n",
       "      <td>17.25</td>\n",
       "      <td>276816.883</td>\n",
       "      <td>2114086.734</td>\n",
       "      <td>-4.75</td>\n",
       "      <td>14.70</td>\n",
       "      <td>23.0</td>\n",
       "      <td>18.755503</td>\n",
       "    </tr>\n",
       "    <tr>\n",
       "      <th>4</th>\n",
       "      <td>20.25</td>\n",
       "      <td>276816.883</td>\n",
       "      <td>2114086.734</td>\n",
       "      <td>-7.75</td>\n",
       "      <td>1.68</td>\n",
       "      <td>66.0</td>\n",
       "      <td>40.274700</td>\n",
       "    </tr>\n",
       "  </tbody>\n",
       "</table>\n",
       "</div>"
      ],
      "text/plain": [
       "   Depth     easting     northing   R.L    UCS   RQD        rmr\n",
       "0   8.25  276816.883  2114086.734  4.25   8.52   0.0   3.697130\n",
       "1  11.25  276816.883  2114086.734  1.25  29.61  39.0  31.935841\n",
       "2  14.25  276816.883  2114086.734 -1.75  32.95  54.0  41.511956\n",
       "3  17.25  276816.883  2114086.734 -4.75  14.70  23.0  18.755503\n",
       "4  20.25  276816.883  2114086.734 -7.75   1.68  66.0  40.274700"
      ]
     },
     "execution_count": 67,
     "metadata": {},
     "output_type": "execute_result"
    }
   ],
   "source": [
    "data[['Depth','easting','northing','R.L','UCS','RQD','rmr']].head()"
   ]
  },
  {
   "cell_type": "markdown",
   "metadata": {},
   "source": [
    "Based on the RMR values, we will plot the rock profile. This will give an idea about the grade of rock found at different location and depths."
   ]
  },
  {
   "cell_type": "code",
   "execution_count": 68,
   "metadata": {
    "scrolled": true
   },
   "outputs": [
    {
     "data": {
      "text/plain": [
       "Text(0,0.5,'Depth (m)')"
      ]
     },
     "execution_count": 68,
     "metadata": {},
     "output_type": "execute_result"
    },
    {
     "data": {
      "image/png": "[encoded data removed]",
      "text/plain": [
       "<Figure size 432x288 with 1 Axes>"
      ]
     },
     "metadata": {},
     "output_type": "display_data"
    }
   ],
   "source": [
    "plt.scatter(data['rmr'],data['Depth'])\n",
    "plt.gca().invert_yaxis()\n",
    "plt.xlabel('RMR')\n",
    "plt.ylabel('Depth (m)')"
   ]
  },
  {
   "cell_type": "code",
   "execution_count": 69,
   "metadata": {},
   "outputs": [
    {
     "data": {
      "text/plain": [
       "0.3865313256910861"
      ]
     },
     "execution_count": 69,
     "metadata": {},
     "output_type": "execute_result"
    }
   ],
   "source": [
    "stats.pearsonr(data['rmr'],data['Depth'])[0]"
   ]
  },
  {
   "cell_type": "markdown",
   "metadata": {},
   "source": [
    "Clearly the linear model is not a better model from the graph above. Hence we will use non-linear model to predict the RMR values"
   ]
  },
  {
   "cell_type": "markdown",
   "metadata": {},
   "source": [
    "Decision Tree\n",
    "-----"
   ]
  },
  {
   "cell_type": "code",
   "execution_count": 70,
   "metadata": {},
   "outputs": [
    {
     "name": "stderr",
     "output_type": "stream",
     "text": [
      "C:\\Users\\Admin\\Anaconda3\\lib\\site-packages\\ipykernel_launcher.py:5: SettingWithCopyWarning: \n",
      "A value is trying to be set on a copy of a slice from a DataFrame.\n",
      "Try using .loc[row_indexer,col_indexer] = value instead\n",
      "\n",
      "See the caveats in the documentation: http://pandas.pydata.org/pandas-docs/stable/indexing.html#indexing-view-versus-copy\n",
      "  \"\"\"\n",
      "C:\\Users\\Admin\\Anaconda3\\lib\\site-packages\\ipykernel_launcher.py:6: SettingWithCopyWarning: \n",
      "A value is trying to be set on a copy of a slice from a DataFrame.\n",
      "Try using .loc[row_indexer,col_indexer] = value instead\n",
      "\n",
      "See the caveats in the documentation: http://pandas.pydata.org/pandas-docs/stable/indexing.html#indexing-view-versus-copy\n",
      "  \n"
     ]
    }
   ],
   "source": [
    "tree_dataset = data[['Depth','easting','northing','rmr']]\n",
    "tree_dataset.head()\n",
    "easting = min(tree_dataset['easting'])\n",
    "northing = min(tree_dataset['northing'])\n",
    "tree_dataset['X'] = tree_dataset['easting'] - easting\n",
    "tree_dataset['Y'] = tree_dataset['northing'] - northing"
   ]
  },
  {
   "cell_type": "code",
   "execution_count": 71,
   "metadata": {
    "scrolled": true
   },
   "outputs": [
    {
     "data": {
      "text/html": [
       "<div>\n",
       "<style scoped>\n",
       "    .dataframe tbody tr th:only-of-type {\n",
       "        vertical-align: middle;\n",
       "    }\n",
       "\n",
       "    .dataframe tbody tr th {\n",
       "        vertical-align: top;\n",
       "    }\n",
       "\n",
       "    .dataframe thead th {\n",
       "        text-align: right;\n",
       "    }\n",
       "</style>\n",
       "<table border=\"1\" class=\"dataframe\">\n",
       "  <thead>\n",
       "    <tr style=\"text-align: right;\">\n",
       "      <th></th>\n",
       "      <th>Depth</th>\n",
       "      <th>easting</th>\n",
       "      <th>northing</th>\n",
       "      <th>rmr</th>\n",
       "      <th>X</th>\n",
       "      <th>Y</th>\n",
       "    </tr>\n",
       "  </thead>\n",
       "  <tbody>\n",
       "    <tr>\n",
       "      <th>0</th>\n",
       "      <td>8.25</td>\n",
       "      <td>276816.883</td>\n",
       "      <td>2114086.734</td>\n",
       "      <td>3.697130</td>\n",
       "      <td>8.104</td>\n",
       "      <td>19.71</td>\n",
       "    </tr>\n",
       "    <tr>\n",
       "      <th>1</th>\n",
       "      <td>11.25</td>\n",
       "      <td>276816.883</td>\n",
       "      <td>2114086.734</td>\n",
       "      <td>31.935841</td>\n",
       "      <td>8.104</td>\n",
       "      <td>19.71</td>\n",
       "    </tr>\n",
       "    <tr>\n",
       "      <th>2</th>\n",
       "      <td>14.25</td>\n",
       "      <td>276816.883</td>\n",
       "      <td>2114086.734</td>\n",
       "      <td>41.511956</td>\n",
       "      <td>8.104</td>\n",
       "      <td>19.71</td>\n",
       "    </tr>\n",
       "    <tr>\n",
       "      <th>3</th>\n",
       "      <td>17.25</td>\n",
       "      <td>276816.883</td>\n",
       "      <td>2114086.734</td>\n",
       "      <td>18.755503</td>\n",
       "      <td>8.104</td>\n",
       "      <td>19.71</td>\n",
       "    </tr>\n",
       "    <tr>\n",
       "      <th>4</th>\n",
       "      <td>20.25</td>\n",
       "      <td>276816.883</td>\n",
       "      <td>2114086.734</td>\n",
       "      <td>40.274700</td>\n",
       "      <td>8.104</td>\n",
       "      <td>19.71</td>\n",
       "    </tr>\n",
       "  </tbody>\n",
       "</table>\n",
       "</div>"
      ],
      "text/plain": [
       "   Depth     easting     northing        rmr      X      Y\n",
       "0   8.25  276816.883  2114086.734   3.697130  8.104  19.71\n",
       "1  11.25  276816.883  2114086.734  31.935841  8.104  19.71\n",
       "2  14.25  276816.883  2114086.734  41.511956  8.104  19.71\n",
       "3  17.25  276816.883  2114086.734  18.755503  8.104  19.71\n",
       "4  20.25  276816.883  2114086.734  40.274700  8.104  19.71"
      ]
     },
     "execution_count": 71,
     "metadata": {},
     "output_type": "execute_result"
    }
   ],
   "source": [
    "tree_dataset.head()"
   ]
  },
  {
   "cell_type": "markdown",
   "metadata": {},
   "source": [
    "**Borehole Layout**"
   ]
  },
  {
   "cell_type": "code",
   "execution_count": 72,
   "metadata": {},
   "outputs": [
    {
     "data": {
      "text/plain": [
       "Text(0,0.5,'northing')"
      ]
     },
     "execution_count": 72,
     "metadata": {},
     "output_type": "execute_result"
    },
    {
     "data": {
      "image/png": "[encoded data removed]",
      "text/plain": [
       "<Figure size 432x288 with 1 Axes>"
      ]
     },
     "metadata": {},
     "output_type": "display_data"
    }
   ],
   "source": [
    "x = tree_dataset['X'].unique()\n",
    "y = tree_dataset['Y'].unique()\n",
    "\n",
    "for i,(x,y)  in enumerate(zip(x,y)):\n",
    "    plt.scatter(x,y)\n",
    "    text = 'BH'+str(i+1)\n",
    "    plt.text(x+0.3,y+0.3,text,fontsize=11)\n",
    "\n",
    "plt.xlabel('easting')\n",
    "plt.ylabel('northing')"
   ]
  },
  {
   "cell_type": "code",
   "execution_count": 73,
   "metadata": {},
   "outputs": [
    {
     "data": {
      "text/plain": [
       "DecisionTreeRegressor(criterion='mse', max_depth=None, max_features=None,\n",
       "           max_leaf_nodes=None, min_impurity_decrease=0.0,\n",
       "           min_impurity_split=None, min_samples_leaf=1,\n",
       "           min_samples_split=2, min_weight_fraction_leaf=0.0,\n",
       "           presort=False, random_state=None, splitter='best')"
      ]
     },
     "execution_count": 73,
     "metadata": {},
     "output_type": "execute_result"
    }
   ],
   "source": [
    "from sklearn.tree import DecisionTreeRegressor\n",
    "tree = DecisionTreeRegressor()\n",
    "X_tree = tree_dataset[['Depth','X','Y']].values\n",
    "Y_tree = tree_dataset['rmr'].values\n",
    "tree.fit(X_tree,Y_tree)"
   ]
  },
  {
   "cell_type": "code",
   "execution_count": 74,
   "metadata": {},
   "outputs": [
    {
     "data": {
      "text/plain": [
       "array([62.48824496])"
      ]
     },
     "execution_count": 74,
     "metadata": {},
     "output_type": "execute_result"
    }
   ],
   "source": [
    "# Prediction\n",
    "tree.predict(np.array([21,8,211]).reshape(1,3))"
   ]
  },
  {
   "cell_type": "markdown",
   "metadata": {},
   "source": [
    "Plotting the RMR values along a section\n",
    "-----"
   ]
  },
  {
   "cell_type": "code",
   "execution_count": 75,
   "metadata": {},
   "outputs": [],
   "source": [
    "resolution = 40\n",
    "\n",
    "# Northing\n",
    "y_cors = tree_dataset['Y'].values\n",
    "Y_cors = np.linspace(min(y_cors),max(y_cors),num=resolution)\n",
    "# depth\n",
    "Z_cors = np.linspace(0,30,num=resolution)\n",
    "# easting \n",
    "x_cors = tree_dataset['X'].values\n",
    "X_cors = np.linspace(min(x_cors),max(x_cors),num=resolution)\n",
    "\n",
    "X_grid,Y_grid,Z_grid = np.meshgrid(X_cors,Y_cors,Z_cors) \n",
    "\n",
    "rmr_tree = np.zeros((len(X_grid),len(Y_grid),len(Z_grid)))\n",
    "for x in range(resolution):\n",
    "        for y in range(resolution):\n",
    "            for z in range(resolution):\n",
    "                predict = np.array([Z_cors[z],X_cors[x],Y_cors[y]]).reshape(1,3)\n",
    "                rmr_tree[z,x,y] = tree.predict(predict)\n",
    "            "
   ]
  },
  {
   "cell_type": "code",
   "execution_count": 76,
   "metadata": {},
   "outputs": [
    {
     "data": {
      "text/plain": [
       "26.683025641041475"
      ]
     },
     "execution_count": 76,
     "metadata": {},
     "output_type": "execute_result"
    }
   ],
   "source": [
    "coordinate = 34\n",
    "northing = X_cors[coordinate]\n",
    "northing"
   ]
  },
  {
   "cell_type": "code",
   "execution_count": 77,
   "metadata": {},
   "outputs": [
    {
     "name": "stderr",
     "output_type": "stream",
     "text": [
      "C:\\Users\\Admin\\Anaconda3\\lib\\site-packages\\matplotlib\\contour.py:960: UserWarning: The following kwargs were not used by contour: 'label'\n",
      "  s)\n"
     ]
    },
    {
     "data": {
      "text/plain": [
       "<matplotlib.legend.Legend at 0x242733342b0>"
      ]
     },
     "execution_count": 77,
     "metadata": {},
     "output_type": "execute_result"
    },
    {
     "data": {
      "image/png": "[encoded data removed]",
      "text/plain": [
       "<Figure size 1080x360 with 2 Axes>"
      ]
     },
     "metadata": {},
     "output_type": "display_data"
    }
   ],
   "source": [
    "fig = plt.figure(figsize=(15,5))\n",
    "\n",
    "# rmr_tree[z,x,y]\n",
    "plot = rmr_tree[:,coordinate,:]\n",
    "\n",
    "ax = fig.add_subplot(111)\n",
    "\n",
    "Y1_grid,Z1_grid = np.meshgrid(Y_cors,Z_cors)\n",
    "\n",
    "contour = ax.contourf(Y1_grid,Z1_grid,plot,cmap=plt.get_cmap('jet'),label='RMR')\n",
    "fig.colorbar(contour,ax=ax)\n",
    "ax.invert_yaxis()\n",
    "ax.set_xlabel('northing')\n",
    "ax.set_ylabel('Depth (m)')\n",
    "ax.legend(['RMR'])"
   ]
  },
  {
   "cell_type": "markdown",
   "metadata": {},
   "source": [
    "this model seems far better model than the linear one because it is classifying the results quite well based on the given features. however we can still improve the model using a different algorithm."
   ]
  },
  {
   "cell_type": "markdown",
   "metadata": {},
   "source": [
    "Random Forest to improve the above model\n",
    "---"
   ]
  },
  {
   "cell_type": "code",
   "execution_count": 78,
   "metadata": {},
   "outputs": [
    {
     "data": {
      "text/plain": [
       "RandomForestRegressor(bootstrap=True, criterion='mse', max_depth=None,\n",
       "           max_features='auto', max_leaf_nodes=None,\n",
       "           min_impurity_decrease=0.0, min_impurity_split=None,\n",
       "           min_samples_leaf=1, min_samples_split=2,\n",
       "           min_weight_fraction_leaf=0.0, n_estimators=10, n_jobs=1,\n",
       "           oob_score=False, random_state=None, verbose=0, warm_start=False)"
      ]
     },
     "execution_count": 78,
     "metadata": {},
     "output_type": "execute_result"
    }
   ],
   "source": [
    "from sklearn.ensemble import RandomForestRegressor\n",
    "randomForest = RandomForestRegressor(n_estimators = 10)\n",
    "X_tree = tree_dataset[['Depth','X','Y']].values\n",
    "Y_tree = tree_dataset['rmr'].values\n",
    "randomForest.fit(X_tree,Y_tree)"
   ]
  },
  {
   "cell_type": "code",
   "execution_count": 79,
   "metadata": {},
   "outputs": [
    {
     "data": {
      "text/plain": [
       "array([50.0131161])"
      ]
     },
     "execution_count": 79,
     "metadata": {},
     "output_type": "execute_result"
    }
   ],
   "source": [
    "# Prediction\n",
    "randomForest.predict(np.array([21,8,211]).reshape(1,3))"
   ]
  },
  {
   "cell_type": "code",
   "execution_count": 80,
   "metadata": {},
   "outputs": [],
   "source": [
    "resolution = 40\n",
    "\n",
    "# Northing\n",
    "y_cors = tree_dataset['Y'].values\n",
    "Y_cors = np.linspace(min(y_cors),max(y_cors),num=resolution)\n",
    "# depth\n",
    "Z_cors = np.linspace(0,30,num=resolution)\n",
    "# easting \n",
    "x_cors = tree_dataset['X'].values\n",
    "X_cors = np.linspace(min(x_cors),max(x_cors),num=resolution)\n",
    "\n",
    "X_grid,Y_grid,Z_grid = np.meshgrid(X_cors,Y_cors,Z_cors) \n",
    "\n",
    "rmr_tree = np.zeros((len(X_grid),len(Y_grid),len(Z_grid)))\n",
    "for x in range(resolution):\n",
    "        for y in range(resolution):\n",
    "            for z in range(resolution):\n",
    "                predict = np.array([Z_cors[z],X_cors[x],Y_cors[y]]).reshape(1,3)\n",
    "                rmr_tree[z,x,y] = randomForest.predict(predict)"
   ]
  },
  {
   "cell_type": "code",
   "execution_count": 81,
   "metadata": {},
   "outputs": [
    {
     "data": {
      "text/plain": [
       "26.683025641041475"
      ]
     },
     "execution_count": 81,
     "metadata": {},
     "output_type": "execute_result"
    }
   ],
   "source": [
    "#Plotting along a section\n",
    "# I am interested to see the profile at easting around 25 to 26 \n",
    "coordinate = 34\n",
    "northing = X_cors[coordinate]\n",
    "northing"
   ]
  },
  {
   "cell_type": "code",
   "execution_count": 82,
   "metadata": {},
   "outputs": [
    {
     "name": "stderr",
     "output_type": "stream",
     "text": [
      "C:\\Users\\Admin\\Anaconda3\\lib\\site-packages\\matplotlib\\contour.py:960: UserWarning: The following kwargs were not used by contour: 'label'\n",
      "  s)\n"
     ]
    },
    {
     "data": {
      "text/plain": [
       "<matplotlib.legend.Legend at 0x2427346fba8>"
      ]
     },
     "execution_count": 82,
     "metadata": {},
     "output_type": "execute_result"
    },
    {
     "data": {
      "image/png": "[encoded data removed]",
      "text/plain": [
       "<Figure size 1080x360 with 2 Axes>"
      ]
     },
     "metadata": {},
     "output_type": "display_data"
    }
   ],
   "source": [
    "fig = plt.figure(figsize=(15,5))\n",
    "\n",
    "# rmr_tree[z,x,y]\n",
    "plot = rmr_tree[:,coordinate,:]\n",
    "\n",
    "ax = fig.add_subplot(111)\n",
    "\n",
    "Y1_grid,Z1_grid = np.meshgrid(Y_cors,Z_cors)\n",
    "\n",
    "contour = ax.contourf(Y1_grid,Z1_grid,plot,cmap=plt.get_cmap('jet'),label='RMR')\n",
    "fig.colorbar(contour,ax=ax)\n",
    "ax.invert_yaxis()\n",
    "ax.set_xlabel('northing')\n",
    "ax.set_ylabel('Depth (m)')\n",
    "ax.legend(['RMR'])"
   ]
  },
  {
   "cell_type": "markdown",
   "metadata": {},
   "source": [
    "This gives a better model than the previous model which was based on decision tree."
   ]
  },
  {
   "cell_type": "code",
   "execution_count": null,
   "metadata": {},
   "outputs": [],
   "source": []
  }
 ],
 "metadata": {
  "kernelspec": {
   "display_name": "Python 3",
   "language": "python",
   "name": "python3"
  },
  "language_info": {
   "codemirror_mode": {
    "name": "ipython",
    "version": 3
   },
   "file_extension": ".py",
   "mimetype": "text/x-python",
   "name": "python",
   "nbconvert_exporter": "python",
   "pygments_lexer": "ipython3",
   "version": "3.6.5"
  }
 },
 "nbformat": 4,
 "nbformat_minor": 2
}
