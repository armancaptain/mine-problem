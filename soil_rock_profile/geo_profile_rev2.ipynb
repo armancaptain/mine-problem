{
 "cells": [
  {
   "cell_type": "markdown",
   "metadata": {},
   "source": [
    "Mapping the geological profile from borehole data\n",
    "----\n",
    "\n",
    "Data - 10 Borehole data | each borhole is of 30m depth and consisting of data -\n",
    "1. UCS (unaxial compressive strength)\n",
    "2. RQD (rock quality designation)\n",
    "\n",
    "Objective - Mapping the rock profile within 30m depth.\n",
    "\n",
    "note: To derive the RMR (Rock Mass Rating) - the rating for UCS and RQD at each level is used (as per IS code) \n",
    "(RMR is added as a new column)"
   ]
  },
  {
   "cell_type": "code",
   "execution_count": 26,
   "metadata": {},
   "outputs": [],
   "source": [
    "import pandas as pd\n",
    "import numpy as np\n",
    "import scipy.stats as stats\n",
    "import statsmodels.formula.api as smf\n",
    "import matplotlib.pyplot as plt"
   ]
  },
  {
   "cell_type": "code",
   "execution_count": 27,
   "metadata": {},
   "outputs": [
    {
     "data": {
      "text/html": [
       "<div>\n",
       "<style scoped>\n",
       "    .dataframe tbody tr th:only-of-type {\n",
       "        vertical-align: middle;\n",
       "    }\n",
       "\n",
       "    .dataframe tbody tr th {\n",
       "        vertical-align: top;\n",
       "    }\n",
       "\n",
       "    .dataframe thead th {\n",
       "        text-align: right;\n",
       "    }\n",
       "</style>\n",
       "<table border=\"1\" class=\"dataframe\">\n",
       "  <thead>\n",
       "    <tr style=\"text-align: right;\">\n",
       "      <th></th>\n",
       "      <th>Unnamed: 0</th>\n",
       "      <th>Depth</th>\n",
       "      <th>easting</th>\n",
       "      <th>northing</th>\n",
       "      <th>rmr</th>\n",
       "      <th>UCS</th>\n",
       "      <th>RQD</th>\n",
       "    </tr>\n",
       "  </thead>\n",
       "  <tbody>\n",
       "    <tr>\n",
       "      <th>0</th>\n",
       "      <td>0</td>\n",
       "      <td>8.25</td>\n",
       "      <td>276816.883</td>\n",
       "      <td>2114086.734</td>\n",
       "      <td>3.697130</td>\n",
       "      <td>8.52</td>\n",
       "      <td>0.0</td>\n",
       "    </tr>\n",
       "    <tr>\n",
       "      <th>1</th>\n",
       "      <td>1</td>\n",
       "      <td>11.25</td>\n",
       "      <td>276816.883</td>\n",
       "      <td>2114086.734</td>\n",
       "      <td>31.935841</td>\n",
       "      <td>29.61</td>\n",
       "      <td>39.0</td>\n",
       "    </tr>\n",
       "    <tr>\n",
       "      <th>2</th>\n",
       "      <td>2</td>\n",
       "      <td>14.25</td>\n",
       "      <td>276816.883</td>\n",
       "      <td>2114086.734</td>\n",
       "      <td>41.511956</td>\n",
       "      <td>32.95</td>\n",
       "      <td>54.0</td>\n",
       "    </tr>\n",
       "    <tr>\n",
       "      <th>3</th>\n",
       "      <td>3</td>\n",
       "      <td>17.25</td>\n",
       "      <td>276816.883</td>\n",
       "      <td>2114086.734</td>\n",
       "      <td>18.755503</td>\n",
       "      <td>14.70</td>\n",
       "      <td>23.0</td>\n",
       "    </tr>\n",
       "    <tr>\n",
       "      <th>4</th>\n",
       "      <td>4</td>\n",
       "      <td>20.25</td>\n",
       "      <td>276816.883</td>\n",
       "      <td>2114086.734</td>\n",
       "      <td>40.274700</td>\n",
       "      <td>1.68</td>\n",
       "      <td>66.0</td>\n",
       "    </tr>\n",
       "  </tbody>\n",
       "</table>\n",
       "</div>"
      ],
      "text/plain": [
       "   Unnamed: 0  Depth     easting     northing        rmr    UCS   RQD\n",
       "0           0   8.25  276816.883  2114086.734   3.697130   8.52   0.0\n",
       "1           1  11.25  276816.883  2114086.734  31.935841  29.61  39.0\n",
       "2           2  14.25  276816.883  2114086.734  41.511956  32.95  54.0\n",
       "3           3  17.25  276816.883  2114086.734  18.755503  14.70  23.0\n",
       "4           4  20.25  276816.883  2114086.734  40.274700   1.68  66.0"
      ]
     },
     "execution_count": 27,
     "metadata": {},
     "output_type": "execute_result"
    }
   ],
   "source": [
    "data = pd.read_csv('rmr.csv')\n",
    "data.head()"
   ]
  },
  {
   "cell_type": "code",
   "execution_count": 28,
   "metadata": {
    "scrolled": true
   },
   "outputs": [
    {
     "data": {
      "text/plain": [
       "Text(0,0.5,'Depth (m)')"
      ]
     },
     "execution_count": 28,
     "metadata": {},
     "output_type": "execute_result"
    },
    {
     "data": {
      "image/png": "[encoded data removed]",
      "text/plain": [
       "<matplotlib.figure.Figure at 0x1a219cc0f0>"
      ]
     },
     "metadata": {},
     "output_type": "display_data"
    }
   ],
   "source": [
    "plt.scatter(data['rmr'],data['Depth'])\n",
    "plt.gca().invert_yaxis()\n",
    "plt.xlabel('RMR')\n",
    "plt.ylabel('Depth (m)')"
   ]
  },
  {
   "cell_type": "code",
   "execution_count": 29,
   "metadata": {},
   "outputs": [
    {
     "data": {
      "text/plain": [
       "0.3865313256910861"
      ]
     },
     "execution_count": 29,
     "metadata": {},
     "output_type": "execute_result"
    }
   ],
   "source": [
    "stats.pearsonr(data['rmr'],data['Depth'])[0]"
   ]
  },
  {
   "cell_type": "markdown",
   "metadata": {},
   "source": [
    "Clearly the linear model is not a better model from the graph above. Hence we will use non-linear model to predict the RMR values"
   ]
  },
  {
   "cell_type": "markdown",
   "metadata": {},
   "source": [
    "Random Forest to predict the soil/rock property\n",
    "-----"
   ]
  },
  {
   "cell_type": "code",
   "execution_count": 30,
   "metadata": {},
   "outputs": [],
   "source": [
    "tree_dataset = data[['Depth','easting','northing','rmr','UCS','RQD']]\n",
    "tree_dataset.to_csv('rmr.csv')\n",
    "tree_dataset.head()\n",
    "\n",
    "# Normalizing the easting and northing for better modelling \n",
    "easting = min(tree_dataset['easting'])\n",
    "northing = min(tree_dataset['northing'])\n",
    "tree_dataset['X'] = tree_dataset['easting'] - easting\n",
    "tree_dataset['Y'] = tree_dataset['northing'] - northing"
   ]
  },
  {
   "cell_type": "code",
   "execution_count": 31,
   "metadata": {
    "scrolled": true
   },
   "outputs": [
    {
     "data": {
      "text/html": [
       "<div>\n",
       "<style scoped>\n",
       "    .dataframe tbody tr th:only-of-type {\n",
       "        vertical-align: middle;\n",
       "    }\n",
       "\n",
       "    .dataframe tbody tr th {\n",
       "        vertical-align: top;\n",
       "    }\n",
       "\n",
       "    .dataframe thead th {\n",
       "        text-align: right;\n",
       "    }\n",
       "</style>\n",
       "<table border=\"1\" class=\"dataframe\">\n",
       "  <thead>\n",
       "    <tr style=\"text-align: right;\">\n",
       "      <th></th>\n",
       "      <th>Depth</th>\n",
       "      <th>easting</th>\n",
       "      <th>northing</th>\n",
       "      <th>rmr</th>\n",
       "      <th>UCS</th>\n",
       "      <th>RQD</th>\n",
       "      <th>X</th>\n",
       "      <th>Y</th>\n",
       "    </tr>\n",
       "  </thead>\n",
       "  <tbody>\n",
       "    <tr>\n",
       "      <th>0</th>\n",
       "      <td>8.25</td>\n",
       "      <td>276816.883</td>\n",
       "      <td>2114086.734</td>\n",
       "      <td>3.697130</td>\n",
       "      <td>8.52</td>\n",
       "      <td>0.0</td>\n",
       "      <td>8.104</td>\n",
       "      <td>19.71</td>\n",
       "    </tr>\n",
       "    <tr>\n",
       "      <th>1</th>\n",
       "      <td>11.25</td>\n",
       "      <td>276816.883</td>\n",
       "      <td>2114086.734</td>\n",
       "      <td>31.935841</td>\n",
       "      <td>29.61</td>\n",
       "      <td>39.0</td>\n",
       "      <td>8.104</td>\n",
       "      <td>19.71</td>\n",
       "    </tr>\n",
       "    <tr>\n",
       "      <th>2</th>\n",
       "      <td>14.25</td>\n",
       "      <td>276816.883</td>\n",
       "      <td>2114086.734</td>\n",
       "      <td>41.511956</td>\n",
       "      <td>32.95</td>\n",
       "      <td>54.0</td>\n",
       "      <td>8.104</td>\n",
       "      <td>19.71</td>\n",
       "    </tr>\n",
       "    <tr>\n",
       "      <th>3</th>\n",
       "      <td>17.25</td>\n",
       "      <td>276816.883</td>\n",
       "      <td>2114086.734</td>\n",
       "      <td>18.755503</td>\n",
       "      <td>14.70</td>\n",
       "      <td>23.0</td>\n",
       "      <td>8.104</td>\n",
       "      <td>19.71</td>\n",
       "    </tr>\n",
       "    <tr>\n",
       "      <th>4</th>\n",
       "      <td>20.25</td>\n",
       "      <td>276816.883</td>\n",
       "      <td>2114086.734</td>\n",
       "      <td>40.274700</td>\n",
       "      <td>1.68</td>\n",
       "      <td>66.0</td>\n",
       "      <td>8.104</td>\n",
       "      <td>19.71</td>\n",
       "    </tr>\n",
       "  </tbody>\n",
       "</table>\n",
       "</div>"
      ],
      "text/plain": [
       "   Depth     easting     northing        rmr    UCS   RQD      X      Y\n",
       "0   8.25  276816.883  2114086.734   3.697130   8.52   0.0  8.104  19.71\n",
       "1  11.25  276816.883  2114086.734  31.935841  29.61  39.0  8.104  19.71\n",
       "2  14.25  276816.883  2114086.734  41.511956  32.95  54.0  8.104  19.71\n",
       "3  17.25  276816.883  2114086.734  18.755503  14.70  23.0  8.104  19.71\n",
       "4  20.25  276816.883  2114086.734  40.274700   1.68  66.0  8.104  19.71"
      ]
     },
     "execution_count": 31,
     "metadata": {},
     "output_type": "execute_result"
    }
   ],
   "source": [
    "tree_dataset.head()"
   ]
  },
  {
   "cell_type": "code",
   "execution_count": 32,
   "metadata": {},
   "outputs": [],
   "source": [
    "# function to plot the borehole layout as per data\n",
    "def plot_borhole_layout(size=(5,5),along=30):\n",
    "    fig = plt.figure(figsize=size)\n",
    "    ax = fig.add_subplot(111)\n",
    "    X,Y = tree_dataset['X'].unique(), tree_dataset['Y'].unique()\n",
    "    for i,(x,y)  in enumerate(zip(X,Y)):\n",
    "        ax.scatter(x,y)\n",
    "        ax.text(x+0.3,y+0.3,'BH '+str(i+1),fontsize=11)\n",
    "    ax.set_xlabel('easting')\n",
    "    ax.set_ylabel('northing')\n",
    "    ax.plot([along,along],[min(Y),max(Y)],linestyle='dashed',marker='x',markersize=14,color='black')\n",
    "    return ax"
   ]
  },
  {
   "cell_type": "markdown",
   "metadata": {},
   "source": [
    "Plotting the RMR values along a section\n",
    "\n",
    "this model seems far better model than the linear one because it is classifying the results quite well based on the given features. however we can still improve the model using a different algorithm."
   ]
  },
  {
   "cell_type": "markdown",
   "metadata": {},
   "source": [
    "Random Forest model to predict soil/rock properties\n",
    "---"
   ]
  },
  {
   "cell_type": "code",
   "execution_count": 38,
   "metadata": {},
   "outputs": [],
   "source": [
    "# modelling\n",
    "from sklearn.ensemble import RandomForestRegressor\n",
    "randomForest = RandomForestRegressor(n_estimators = 10)\n",
    "X_tree = tree_dataset[['Depth','X','Y']].values\n",
    "\n",
    "\n",
    "# function to return the index from the x_coordinates which depends on the resolution\n",
    "def return_index(coordinate,xs):\n",
    "    value = coordinate/max(tree_dataset['X'])\n",
    "    if value >1:\n",
    "        value=1\n",
    "    index = int(value*(len(xs)-1))\n",
    "    return index"
   ]
  },
  {
   "cell_type": "code",
   "execution_count": 39,
   "metadata": {
    "scrolled": true
   },
   "outputs": [],
   "source": [
    "def map_rock_profile(rock_property, coordinate = 5,resolution=20):\n",
    "    \n",
    "    # change the dependent variable (rock property to be plotted along northing, easting & depth)\n",
    "    Y_tree = tree_dataset[rock_property].values\n",
    "    randomForest.fit(X_tree,Y_tree)\n",
    "    \n",
    "    # 1. PREPARING THE 2-D MATRIX FOR PLOTTING\n",
    "    # ====================================\n",
    "    # Northing\n",
    "    y_cors = tree_dataset['Y'].values\n",
    "    Y_cors = np.linspace(min(y_cors),max(y_cors),num=resolution)\n",
    "    # depth\n",
    "    Z_cors = np.linspace(0,30,num=resolution)\n",
    "    # easting \n",
    "    x_cors = tree_dataset['X'].values\n",
    "    X_cors = np.linspace(min(x_cors),max(x_cors),num=resolution)\n",
    "\n",
    "    X_grid,Y_grid,Z_grid = np.meshgrid(X_cors,Y_cors,Z_cors) \n",
    "\n",
    "    prop_value = np.zeros((len(X_grid),len(Y_grid),len(Z_grid)))\n",
    "    for x in range(resolution):\n",
    "            for y in range(resolution):\n",
    "                for z in range(resolution):\n",
    "                    predict = np.array([Z_cors[z],X_cors[x],Y_cors[y]]).reshape(1,3)\n",
    "                    prop_value[z,x,y] = randomForest.predict(predict)\n",
    "\n",
    "    # 2. PLOTTING THE PROFILE WITH DESIRED PROPERTY\n",
    "    # ======================================\n",
    "\n",
    "    # plot the borehole layout with section marking in the plan\n",
    "    ax1 = plot_borhole_layout(along=X_cors[return_index(coordinate,X_cors)])\n",
    "    ax1.set_title('Borhole layout with section marking')\n",
    "\n",
    "    # Plotting the elevation of the profile at that particular section\n",
    "    fig = plt.figure(figsize=(15,5)) \n",
    "    plot = prop_value[:,return_index(coordinate,X_cors),:]  # prop_value[z,x,y]\n",
    "    ax = fig.add_subplot(111)\n",
    "    Y1_grid,Z1_grid = np.meshgrid(Y_cors,Z_cors)\n",
    "    contour = ax.contourf(Y1_grid,Z1_grid,plot,cmap=plt.get_cmap('jet'),label=rock_property)\n",
    "    fig.colorbar(contour,ax=ax)\n",
    "    ax.invert_yaxis()\n",
    "    ax.set_xlabel('Northing')\n",
    "    ax.set_ylabel('Depth (m)')\n",
    "    ax.set_title('Elevation profile showing: '+rock_property + ' for X-X section in borehole layout above')\n",
    "    ax.legend([rock_property])"
   ]
  },
  {
   "cell_type": "code",
   "execution_count": 40,
   "metadata": {},
   "outputs": [
    {
     "name": "stderr",
     "output_type": "stream",
     "text": [
      "/anaconda3/lib/python3.6/site-packages/matplotlib/contour.py:967: UserWarning: The following kwargs were not used by contour: 'label'\n",
      "  s)\n"
     ]
    },
    {
     "data": {
      "image/png": "[encoded data removed]",
      "text/plain": [
       "<matplotlib.figure.Figure at 0x1a21124d30>"
      ]
     },
     "metadata": {},
     "output_type": "display_data"
    },
    {
     "data": {
      "image/png": "[encoded data removed]",
      "text/plain": [
       "<matplotlib.figure.Figure at 0x1a21706240>"
      ]
     },
     "metadata": {},
     "output_type": "display_data"
    }
   ],
   "source": [
    "map_rock_profile(rock_property='rmr')"
   ]
  },
  {
   "cell_type": "markdown",
   "metadata": {},
   "source": [
    "- This plot shows location based rock grading, which can be very handy for desiging purpose. we can also use to plot other properties available in the table like for example UCS.\n",
    "- We can also change the resolution as well to make the plot more fine.\n",
    "- We can also change the section marking to different location if our areas of interest is different."
   ]
  },
  {
   "cell_type": "code",
   "execution_count": 41,
   "metadata": {},
   "outputs": [
    {
     "name": "stderr",
     "output_type": "stream",
     "text": [
      "/anaconda3/lib/python3.6/site-packages/matplotlib/contour.py:967: UserWarning: The following kwargs were not used by contour: 'label'\n",
      "  s)\n"
     ]
    },
    {
     "data": {
      "image/png": "[encoded data removed]",
      "text/plain": [
       "<matplotlib.figure.Figure at 0x1a21d00780>"
      ]
     },
     "metadata": {},
     "output_type": "display_data"
    },
    {
     "data": {
      "image/png": "[encoded data removed]",
      "text/plain": [
       "<matplotlib.figure.Figure at 0x1a21ed0e48>"
      ]
     },
     "metadata": {},
     "output_type": "display_data"
    }
   ],
   "source": [
    "map_rock_profile(rock_property='UCS')"
   ]
  },
  {
   "cell_type": "markdown",
   "metadata": {},
   "source": [
    "- The location based UCS can be very handy as many coorelations are available on literature to predict bearing capacity, skin friction for rock socketed piles and bolts from UCS value of the rock.\n",
    "- And yes this plot can be further developed to predict mohr-coulomb's parameters (using hoek-brown[2002]) which is widely used models for numerical analysis."
   ]
  }
 ],
 "metadata": {
  "kernelspec": {
   "display_name": "Python 3",
   "language": "python",
   "name": "python3"
  },
  "language_info": {
   "codemirror_mode": {
    "name": "ipython",
    "version": 3
   },
   "file_extension": ".py",
   "mimetype": "text/x-python",
   "name": "python",
   "nbconvert_exporter": "python",
   "pygments_lexer": "ipython3",
   "version": "3.6.4"
  }
 },
 "nbformat": 4,
 "nbformat_minor": 2
}
