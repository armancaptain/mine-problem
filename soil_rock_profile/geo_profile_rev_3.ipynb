{
  "nbformat": 4,
  "nbformat_minor": 0,
  "metadata": {
    "kernelspec": {
      "display_name": "Python 3",
      "language": "python",
      "name": "python3"
    },
    "language_info": {
      "codemirror_mode": {
        "name": "ipython",
        "version": 3
      },
      "file_extension": ".py",
      "mimetype": "text/x-python",
      "name": "python",
      "nbconvert_exporter": "python",
      "pygments_lexer": "ipython3",
      "version": "3.6.4"
    },
    "colab": {
      "name": "geo_profile_rev_3.ipynb",
      "provenance": [],
      "collapsed_sections": [
        "Qo0NBzSZEZnH",
        "oLMh6OFvbLZk"
      ]
    },
    "widgets": {
      "application/vnd.jupyter.widget-state+json": {
        "1889d7fd128c4881911d820e038cd8bc": {
          "model_module": "@jupyter-widgets/controls",
          "model_name": "HBoxModel",
          "state": {
            "_view_name": "HBoxView",
            "_dom_classes": [],
            "_model_name": "HBoxModel",
            "_view_module": "@jupyter-widgets/controls",
            "_model_module_version": "1.5.0",
            "_view_count": null,
            "_view_module_version": "1.5.0",
            "box_style": "",
            "layout": "IPY_MODEL_e86c66fca47c4deeaecae317550a80d1",
            "_model_module": "@jupyter-widgets/controls",
            "children": [
              "IPY_MODEL_1df0a6620dfe4c479301c76a50bf8519",
              "IPY_MODEL_80f382b855b341ffb127a75330ebc83f"
            ]
          }
        },
        "e86c66fca47c4deeaecae317550a80d1": {
          "model_module": "@jupyter-widgets/base",
          "model_name": "LayoutModel",
          "state": {
            "_view_name": "LayoutView",
            "grid_template_rows": null,
            "right": null,
            "justify_content": null,
            "_view_module": "@jupyter-widgets/base",
            "overflow": null,
            "_model_module_version": "1.2.0",
            "_view_count": null,
            "flex_flow": null,
            "width": null,
            "min_width": null,
            "border": null,
            "align_items": null,
            "bottom": null,
            "_model_module": "@jupyter-widgets/base",
            "top": null,
            "grid_column": null,
            "overflow_y": null,
            "overflow_x": null,
            "grid_auto_flow": null,
            "grid_area": null,
            "grid_template_columns": null,
            "flex": null,
            "_model_name": "LayoutModel",
            "justify_items": null,
            "grid_row": null,
            "max_height": null,
            "align_content": null,
            "visibility": null,
            "align_self": null,
            "height": null,
            "min_height": null,
            "padding": null,
            "grid_auto_rows": null,
            "grid_gap": null,
            "max_width": null,
            "order": null,
            "_view_module_version": "1.2.0",
            "grid_template_areas": null,
            "object_position": null,
            "object_fit": null,
            "grid_auto_columns": null,
            "margin": null,
            "display": null,
            "left": null
          }
        },
        "1df0a6620dfe4c479301c76a50bf8519": {
          "model_module": "@jupyter-widgets/controls",
          "model_name": "IntProgressModel",
          "state": {
            "_view_name": "ProgressView",
            "style": "IPY_MODEL_c37b2e807bab429dbb8d29289bbbab11",
            "_dom_classes": [],
            "description": "",
            "_model_name": "IntProgressModel",
            "bar_style": "success",
            "max": 25,
            "_view_module": "@jupyter-widgets/controls",
            "_model_module_version": "1.5.0",
            "value": 25,
            "_view_count": null,
            "_view_module_version": "1.5.0",
            "orientation": "horizontal",
            "min": 0,
            "description_tooltip": null,
            "_model_module": "@jupyter-widgets/controls",
            "layout": "IPY_MODEL_6b5d2398b5354720a7416e75faab5bc4"
          }
        },
        "80f382b855b341ffb127a75330ebc83f": {
          "model_module": "@jupyter-widgets/controls",
          "model_name": "HTMLModel",
          "state": {
            "_view_name": "HTMLView",
            "style": "IPY_MODEL_fa77876aa59542d197ac57587f9ebbca",
            "_dom_classes": [],
            "description": "",
            "_model_name": "HTMLModel",
            "placeholder": "​",
            "_view_module": "@jupyter-widgets/controls",
            "_model_module_version": "1.5.0",
            "value": "100% 25/25 [00:07&lt;00:00,  1.97it/s]",
            "_view_count": null,
            "_view_module_version": "1.5.0",
            "description_tooltip": null,
            "_model_module": "@jupyter-widgets/controls",
            "layout": "IPY_MODEL_64edde6bb9d24a319285a9277b349281"
          }
        },
        "c37b2e807bab429dbb8d29289bbbab11": {
          "model_module": "@jupyter-widgets/controls",
          "model_name": "ProgressStyleModel",
          "state": {
            "_view_name": "StyleView",
            "_model_name": "ProgressStyleModel",
            "description_width": "",
            "_view_module": "@jupyter-widgets/base",
            "_model_module_version": "1.5.0",
            "_view_count": null,
            "_view_module_version": "1.2.0",
            "bar_color": null,
            "_model_module": "@jupyter-widgets/controls"
          }
        },
        "6b5d2398b5354720a7416e75faab5bc4": {
          "model_module": "@jupyter-widgets/base",
          "model_name": "LayoutModel",
          "state": {
            "_view_name": "LayoutView",
            "grid_template_rows": null,
            "right": null,
            "justify_content": null,
            "_view_module": "@jupyter-widgets/base",
            "overflow": null,
            "_model_module_version": "1.2.0",
            "_view_count": null,
            "flex_flow": null,
            "width": null,
            "min_width": null,
            "border": null,
            "align_items": null,
            "bottom": null,
            "_model_module": "@jupyter-widgets/base",
            "top": null,
            "grid_column": null,
            "overflow_y": null,
            "overflow_x": null,
            "grid_auto_flow": null,
            "grid_area": null,
            "grid_template_columns": null,
            "flex": null,
            "_model_name": "LayoutModel",
            "justify_items": null,
            "grid_row": null,
            "max_height": null,
            "align_content": null,
            "visibility": null,
            "align_self": null,
            "height": null,
            "min_height": null,
            "padding": null,
            "grid_auto_rows": null,
            "grid_gap": null,
            "max_width": null,
            "order": null,
            "_view_module_version": "1.2.0",
            "grid_template_areas": null,
            "object_position": null,
            "object_fit": null,
            "grid_auto_columns": null,
            "margin": null,
            "display": null,
            "left": null
          }
        },
        "fa77876aa59542d197ac57587f9ebbca": {
          "model_module": "@jupyter-widgets/controls",
          "model_name": "DescriptionStyleModel",
          "state": {
            "_view_name": "StyleView",
            "_model_name": "DescriptionStyleModel",
            "description_width": "",
            "_view_module": "@jupyter-widgets/base",
            "_model_module_version": "1.5.0",
            "_view_count": null,
            "_view_module_version": "1.2.0",
            "_model_module": "@jupyter-widgets/controls"
          }
        },
        "64edde6bb9d24a319285a9277b349281": {
          "model_module": "@jupyter-widgets/base",
          "model_name": "LayoutModel",
          "state": {
            "_view_name": "LayoutView",
            "grid_template_rows": null,
            "right": null,
            "justify_content": null,
            "_view_module": "@jupyter-widgets/base",
            "overflow": null,
            "_model_module_version": "1.2.0",
            "_view_count": null,
            "flex_flow": null,
            "width": null,
            "min_width": null,
            "border": null,
            "align_items": null,
            "bottom": null,
            "_model_module": "@jupyter-widgets/base",
            "top": null,
            "grid_column": null,
            "overflow_y": null,
            "overflow_x": null,
            "grid_auto_flow": null,
            "grid_area": null,
            "grid_template_columns": null,
            "flex": null,
            "_model_name": "LayoutModel",
            "justify_items": null,
            "grid_row": null,
            "max_height": null,
            "align_content": null,
            "visibility": null,
            "align_self": null,
            "height": null,
            "min_height": null,
            "padding": null,
            "grid_auto_rows": null,
            "grid_gap": null,
            "max_width": null,
            "order": null,
            "_view_module_version": "1.2.0",
            "grid_template_areas": null,
            "object_position": null,
            "object_fit": null,
            "grid_auto_columns": null,
            "margin": null,
            "display": null,
            "left": null
          }
        }
      }
    }
  },
  "cells": [
    {
      "cell_type": "markdown",
      "metadata": {
        "id": "PS2gpQHyDg_B",
        "colab_type": "text"
      },
      "source": [
        "Mapping the geological profile from borehole data\n",
        "----\n",
        "\n",
        "Data - 10 Borehole data | each borhole is of 30m depth and consisting of data -\n",
        "1. UCS (unaxial compressive strength)\n",
        "2. RQD (rock quality designation)\n",
        "\n",
        "Objective - Mapping the rock profile from given borehole data.\n",
        "\n",
        "note: To derive the RMR (Rock Mass Rating) - the rating for UCS and RQD at each level is used (as per IS code) \n",
        "(RMR is added as a new column)"
      ]
    },
    {
      "cell_type": "code",
      "metadata": {
        "id": "MhgYoZf4Dg_C",
        "colab_type": "code",
        "colab": {}
      },
      "source": [
        "import pandas as pd\n",
        "import numpy as np\n",
        "import scipy.stats as stats\n",
        "import statsmodels.formula.api as smf\n",
        "import matplotlib.pyplot as plt\n",
        "\n",
        "import sklearn\n",
        "from sklearn.ensemble import RandomForestRegressor\n",
        "\n",
        "from sklearn import preprocessing\n",
        "from sklearn.model_selection import cross_val_score\n",
        "from tqdm import tqdm_notebook\n",
        "\n",
        "import torch\n",
        "import torch.nn as nn\n",
        "import torch.optim as optim"
      ],
      "execution_count": 0,
      "outputs": []
    },
    {
      "cell_type": "code",
      "metadata": {
        "id": "S5qwBN45ET3-",
        "colab_type": "code",
        "outputId": "e21e85ab-f58c-4945-ade9-e028e10f605d",
        "colab": {
          "base_uri": "https://localhost:8080/",
          "height": 35
        }
      },
      "source": [
        "from google.colab import drive\n",
        "drive.mount('/content/drive')"
      ],
      "execution_count": 15,
      "outputs": [
        {
          "output_type": "stream",
          "text": [
            "Drive already mounted at /content/drive; to attempt to forcibly remount, call drive.mount(\"/content/drive\", force_remount=True).\n"
          ],
          "name": "stdout"
        }
      ]
    },
    {
      "cell_type": "markdown",
      "metadata": {
        "id": "Qo0NBzSZEZnH",
        "colab_type": "text"
      },
      "source": [
        "## 1. Data Preprocessing"
      ]
    },
    {
      "cell_type": "code",
      "metadata": {
        "id": "tKzrGf1dDg_E",
        "colab_type": "code",
        "outputId": "eb45a243-9de8-430e-89bd-ba4253ae0c20",
        "colab": {
          "base_uri": "https://localhost:8080/",
          "height": 198
        }
      },
      "source": [
        "data_file = '/content/drive/My Drive/Colab Notebooks/Projects/Side Projects/Rock Profile/ucs_rqd_data.csv'\n",
        "data = pd.read_csv(data_file)\n",
        "data.head()"
      ],
      "execution_count": 16,
      "outputs": [
        {
          "output_type": "execute_result",
          "data": {
            "text/html": [
              "<div>\n",
              "<style scoped>\n",
              "    .dataframe tbody tr th:only-of-type {\n",
              "        vertical-align: middle;\n",
              "    }\n",
              "\n",
              "    .dataframe tbody tr th {\n",
              "        vertical-align: top;\n",
              "    }\n",
              "\n",
              "    .dataframe thead th {\n",
              "        text-align: right;\n",
              "    }\n",
              "</style>\n",
              "<table border=\"1\" class=\"dataframe\">\n",
              "  <thead>\n",
              "    <tr style=\"text-align: right;\">\n",
              "      <th></th>\n",
              "      <th>bh_no</th>\n",
              "      <th>Depth</th>\n",
              "      <th>easting</th>\n",
              "      <th>northing</th>\n",
              "      <th>R.L</th>\n",
              "      <th>UCS</th>\n",
              "      <th>RQD</th>\n",
              "      <th>chainage</th>\n",
              "    </tr>\n",
              "  </thead>\n",
              "  <tbody>\n",
              "    <tr>\n",
              "      <th>0</th>\n",
              "      <td>1</td>\n",
              "      <td>8.25</td>\n",
              "      <td>276816.883</td>\n",
              "      <td>2114086.734</td>\n",
              "      <td>4.25</td>\n",
              "      <td>8.52</td>\n",
              "      <td>0.0</td>\n",
              "      <td>29.71</td>\n",
              "    </tr>\n",
              "    <tr>\n",
              "      <th>1</th>\n",
              "      <td>1</td>\n",
              "      <td>11.25</td>\n",
              "      <td>276816.883</td>\n",
              "      <td>2114086.734</td>\n",
              "      <td>1.25</td>\n",
              "      <td>29.61</td>\n",
              "      <td>39.0</td>\n",
              "      <td>29.71</td>\n",
              "    </tr>\n",
              "    <tr>\n",
              "      <th>2</th>\n",
              "      <td>1</td>\n",
              "      <td>14.25</td>\n",
              "      <td>276816.883</td>\n",
              "      <td>2114086.734</td>\n",
              "      <td>-1.75</td>\n",
              "      <td>32.95</td>\n",
              "      <td>54.0</td>\n",
              "      <td>29.71</td>\n",
              "    </tr>\n",
              "    <tr>\n",
              "      <th>3</th>\n",
              "      <td>1</td>\n",
              "      <td>17.25</td>\n",
              "      <td>276816.883</td>\n",
              "      <td>2114086.734</td>\n",
              "      <td>-4.75</td>\n",
              "      <td>14.70</td>\n",
              "      <td>23.0</td>\n",
              "      <td>29.71</td>\n",
              "    </tr>\n",
              "    <tr>\n",
              "      <th>4</th>\n",
              "      <td>1</td>\n",
              "      <td>20.25</td>\n",
              "      <td>276816.883</td>\n",
              "      <td>2114086.734</td>\n",
              "      <td>-7.75</td>\n",
              "      <td>1.68</td>\n",
              "      <td>66.0</td>\n",
              "      <td>29.71</td>\n",
              "    </tr>\n",
              "  </tbody>\n",
              "</table>\n",
              "</div>"
            ],
            "text/plain": [
              "   bh_no  Depth     easting     northing   R.L    UCS   RQD  chainage\n",
              "0      1   8.25  276816.883  2114086.734  4.25   8.52   0.0     29.71\n",
              "1      1  11.25  276816.883  2114086.734  1.25  29.61  39.0     29.71\n",
              "2      1  14.25  276816.883  2114086.734 -1.75  32.95  54.0     29.71\n",
              "3      1  17.25  276816.883  2114086.734 -4.75  14.70  23.0     29.71\n",
              "4      1  20.25  276816.883  2114086.734 -7.75   1.68  66.0     29.71"
            ]
          },
          "metadata": {
            "tags": []
          },
          "execution_count": 16
        }
      ]
    },
    {
      "cell_type": "code",
      "metadata": {
        "id": "ls12rlfEFqc0",
        "colab_type": "code",
        "colab": {}
      },
      "source": [
        "def ucs_rating(ucs):\n",
        "  if ucs > 250:\n",
        "    return 15\n",
        "  elif ucs > 100 and ucs <= 250:\n",
        "    return 12\n",
        "  elif ucs > 50 and ucs <= 100:\n",
        "    return 7\n",
        "  elif ucs > 25 and ucs <= 50:\n",
        "    return 4\n",
        "  elif ucs > 10 and ucs <= 25: \n",
        "    return 2\n",
        "  elif ucs > 2 and ucs <= 10:\n",
        "    return 1\n",
        "  else:\n",
        "    return 1\n",
        "\n",
        "def rqd_rating(rqd):\n",
        "  if rqd > 90:\n",
        "    return 20\n",
        "  elif rqd > 75 and rqd <= 90:\n",
        "    return 17\n",
        "  elif rqd > 50 and rqd <= 75:\n",
        "    return 13\n",
        "  elif rqd > 25 and rqd <= 50:\n",
        "    return 8\n",
        "  else:\n",
        "    return 3"
      ],
      "execution_count": 0,
      "outputs": []
    },
    {
      "cell_type": "code",
      "metadata": {
        "id": "Z6Dx5xYvGkJZ",
        "colab_type": "code",
        "outputId": "6ff2fe0b-22e5-474b-aa3e-8ca40c1541b5",
        "colab": {
          "base_uri": "https://localhost:8080/",
          "height": 198
        }
      },
      "source": [
        "data['rmr'] = (data['UCS'].apply(ucs_rating) + data['RQD'].apply(rqd_rating))/35*100\n",
        "data.head()"
      ],
      "execution_count": 18,
      "outputs": [
        {
          "output_type": "execute_result",
          "data": {
            "text/html": [
              "<div>\n",
              "<style scoped>\n",
              "    .dataframe tbody tr th:only-of-type {\n",
              "        vertical-align: middle;\n",
              "    }\n",
              "\n",
              "    .dataframe tbody tr th {\n",
              "        vertical-align: top;\n",
              "    }\n",
              "\n",
              "    .dataframe thead th {\n",
              "        text-align: right;\n",
              "    }\n",
              "</style>\n",
              "<table border=\"1\" class=\"dataframe\">\n",
              "  <thead>\n",
              "    <tr style=\"text-align: right;\">\n",
              "      <th></th>\n",
              "      <th>bh_no</th>\n",
              "      <th>Depth</th>\n",
              "      <th>easting</th>\n",
              "      <th>northing</th>\n",
              "      <th>R.L</th>\n",
              "      <th>UCS</th>\n",
              "      <th>RQD</th>\n",
              "      <th>chainage</th>\n",
              "      <th>rmr</th>\n",
              "    </tr>\n",
              "  </thead>\n",
              "  <tbody>\n",
              "    <tr>\n",
              "      <th>0</th>\n",
              "      <td>1</td>\n",
              "      <td>8.25</td>\n",
              "      <td>276816.883</td>\n",
              "      <td>2114086.734</td>\n",
              "      <td>4.25</td>\n",
              "      <td>8.52</td>\n",
              "      <td>0.0</td>\n",
              "      <td>29.71</td>\n",
              "      <td>11.428571</td>\n",
              "    </tr>\n",
              "    <tr>\n",
              "      <th>1</th>\n",
              "      <td>1</td>\n",
              "      <td>11.25</td>\n",
              "      <td>276816.883</td>\n",
              "      <td>2114086.734</td>\n",
              "      <td>1.25</td>\n",
              "      <td>29.61</td>\n",
              "      <td>39.0</td>\n",
              "      <td>29.71</td>\n",
              "      <td>34.285714</td>\n",
              "    </tr>\n",
              "    <tr>\n",
              "      <th>2</th>\n",
              "      <td>1</td>\n",
              "      <td>14.25</td>\n",
              "      <td>276816.883</td>\n",
              "      <td>2114086.734</td>\n",
              "      <td>-1.75</td>\n",
              "      <td>32.95</td>\n",
              "      <td>54.0</td>\n",
              "      <td>29.71</td>\n",
              "      <td>48.571429</td>\n",
              "    </tr>\n",
              "    <tr>\n",
              "      <th>3</th>\n",
              "      <td>1</td>\n",
              "      <td>17.25</td>\n",
              "      <td>276816.883</td>\n",
              "      <td>2114086.734</td>\n",
              "      <td>-4.75</td>\n",
              "      <td>14.70</td>\n",
              "      <td>23.0</td>\n",
              "      <td>29.71</td>\n",
              "      <td>14.285714</td>\n",
              "    </tr>\n",
              "    <tr>\n",
              "      <th>4</th>\n",
              "      <td>1</td>\n",
              "      <td>20.25</td>\n",
              "      <td>276816.883</td>\n",
              "      <td>2114086.734</td>\n",
              "      <td>-7.75</td>\n",
              "      <td>1.68</td>\n",
              "      <td>66.0</td>\n",
              "      <td>29.71</td>\n",
              "      <td>40.000000</td>\n",
              "    </tr>\n",
              "  </tbody>\n",
              "</table>\n",
              "</div>"
            ],
            "text/plain": [
              "   bh_no  Depth     easting     northing  ...    UCS   RQD  chainage        rmr\n",
              "0      1   8.25  276816.883  2114086.734  ...   8.52   0.0     29.71  11.428571\n",
              "1      1  11.25  276816.883  2114086.734  ...  29.61  39.0     29.71  34.285714\n",
              "2      1  14.25  276816.883  2114086.734  ...  32.95  54.0     29.71  48.571429\n",
              "3      1  17.25  276816.883  2114086.734  ...  14.70  23.0     29.71  14.285714\n",
              "4      1  20.25  276816.883  2114086.734  ...   1.68  66.0     29.71  40.000000\n",
              "\n",
              "[5 rows x 9 columns]"
            ]
          },
          "metadata": {
            "tags": []
          },
          "execution_count": 18
        }
      ]
    },
    {
      "cell_type": "markdown",
      "metadata": {
        "id": "oLMh6OFvbLZk",
        "colab_type": "text"
      },
      "source": [
        "## 2. Utility functions for training and prediction"
      ]
    },
    {
      "cell_type": "code",
      "metadata": {
        "id": "SSoKgCYqQYcx",
        "colab_type": "code",
        "outputId": "555db194-36df-4938-8cde-904de4325460",
        "colab": {
          "base_uri": "https://localhost:8080/",
          "height": 55
        }
      },
      "source": [
        "sklearn.metrics.SCORERS.keys()"
      ],
      "execution_count": 19,
      "outputs": [
        {
          "output_type": "execute_result",
          "data": {
            "text/plain": [
              "dict_keys(['explained_variance', 'r2', 'max_error', 'neg_median_absolute_error', 'neg_mean_absolute_error', 'neg_mean_squared_error', 'neg_mean_squared_log_error', 'accuracy', 'roc_auc', 'balanced_accuracy', 'average_precision', 'neg_log_loss', 'brier_score_loss', 'adjusted_rand_score', 'homogeneity_score', 'completeness_score', 'v_measure_score', 'mutual_info_score', 'adjusted_mutual_info_score', 'normalized_mutual_info_score', 'fowlkes_mallows_score', 'precision', 'precision_macro', 'precision_micro', 'precision_samples', 'precision_weighted', 'recall', 'recall_macro', 'recall_micro', 'recall_samples', 'recall_weighted', 'f1', 'f1_macro', 'f1_micro', 'f1_samples', 'f1_weighted', 'jaccard', 'jaccard_macro', 'jaccard_micro', 'jaccard_samples', 'jaccard_weighted'])"
            ]
          },
          "metadata": {
            "tags": []
          },
          "execution_count": 19
        }
      ]
    },
    {
      "cell_type": "markdown",
      "metadata": {
        "id": "E9UNOZX0aYlx",
        "colab_type": "text"
      },
      "source": [
        "\n",
        "[**Issue**: scikit-learn cross validation, negative values with mean squared error](https://stackoverflow.com/questions/21443865/scikit-learn-cross-validation-negative-values-with-mean-squared-error)"
      ]
    },
    {
      "cell_type": "code",
      "metadata": {
        "scrolled": true,
        "id": "73P1jR-GDg_V",
        "colab_type": "code",
        "colab": {}
      },
      "source": [
        "def map_rock_profile(model,X_scaled, Y_scaled,x_min_max_scaler, y_min_max_scaler, resolution=50):        \n",
        "    # 1. PREPARING THE 2-D MATRIX FOR PLOTTING\n",
        "    # ====================================\n",
        "    # depth\n",
        "    z_cors = X_scaled['Depth'].values\n",
        "    Z_cors = np.linspace(min(z_cors),max(z_cors),num=resolution)\n",
        "    # chainage \n",
        "    x_cors = X_scaled['chainage'].values\n",
        "    X_cors = np.linspace(min(x_cors),max(x_cors),num=resolution)\n",
        "\n",
        "    X_grid, Z_grid = np.meshgrid(X_cors,Z_cors) \n",
        "    prop_value = np.zeros((len(X_grid),len(Z_grid)))\n",
        "\n",
        "    for x in range(resolution):\n",
        "      for z in range(resolution):       \n",
        "        predict_values = np.array([Z_cors[z],X_cors[x]]).reshape(1,2)\n",
        "        scaled_pred = model.predict(predict_values)\n",
        "        # unnormalize the prediction\n",
        "        prediction = y_min_max_scaler.inverse_transform(scaled_pred.reshape(-1,1))\n",
        "        prop_value[z,x] = prediction\n",
        "    \n",
        "    X_data = np.transpose(np.vstack((Z_cors,X_cors)))\n",
        "    X_data = x_min_max_scaler.inverse_transform(X_data)\n",
        "\n",
        "    return prop_value, X_data\n",
        "\n",
        "def show_profile(data, model,x_cols,pred_col,resolution):\n",
        "\n",
        "  ## preprocessing\n",
        "  X_data = data[x_cols].copy().values\n",
        "  Y_data = data[pred_col].copy().values.reshape(-1,1)\n",
        "\n",
        "  x_min_max_scaler = preprocessing.MinMaxScaler()\n",
        "  y_min_max_scaler = preprocessing.MinMaxScaler()\n",
        "\n",
        "  X_scaled = x_min_max_scaler.fit_transform(X_data)\n",
        "  Y_scaled = y_min_max_scaler.fit_transform(Y_data) \n",
        "\n",
        "  X_scaled = pd.DataFrame(X_scaled,columns=x_cols)\n",
        "  Y_scaled = pd.DataFrame(Y_scaled,columns=[pred_col])\n",
        "\n",
        "  # model trianing\n",
        "  X_train = X_scaled.values\n",
        "  Y_train = Y_scaled.values.ravel()\n",
        "  model.fit(X_train,Y_train)\n",
        "\n",
        "  # prediction\n",
        "  prop_values, X_pred = map_rock_profile(model,X_scaled, Y_scaled,x_min_max_scaler, y_min_max_scaler, resolution)\n",
        "\n",
        "  # plotting\n",
        "  fig = plt.figure(figsize=(15,5))\n",
        "  X1_grid,Z1_grid = np.meshgrid(X_pred[:,1],X_pred[:,0])\n",
        "  contour = plt.contourf(X1_grid,Z1_grid,prop_values,cmap=plt.get_cmap('jet'))\n",
        "  fig.colorbar(contour)\n",
        "  plt.gca().invert_yaxis()\n",
        "  plt.title(pred_col.upper()+\" values\")\n",
        "  plt.ylabel(x_cols[0])\n",
        "  plt.xlabel(x_cols[1])\n",
        "\n",
        "  ## plotting the boreholes\n",
        "  depth_limits = [data[x_cols[0]].min()-2, data[x_cols[0]].max()]\n",
        "  for (bh,chainage),df in data.groupby(['bh_no',x_cols[1]]):\n",
        "    plt.plot([chainage,chainage],depth_limits,color='black',linestyle='--')\n",
        "    plt.text(x=chainage, y = depth_limits[0]-3, s='BH-'+str(bh), rotation=90)\n",
        "\n",
        "  plt.show()"
      ],
      "execution_count": 0,
      "outputs": []
    },
    {
      "cell_type": "markdown",
      "metadata": {
        "id": "iTERsJCJNm_D",
        "colab_type": "text"
      },
      "source": [
        "## 3. Hyperparameter tunining for model selection"
      ]
    },
    {
      "cell_type": "code",
      "metadata": {
        "id": "Qo1az8swDg_M",
        "colab_type": "code",
        "outputId": "108f8b0a-bff4-43af-a3d1-5546172dfeef",
        "colab": {
          "base_uri": "https://localhost:8080/",
          "height": 198
        }
      },
      "source": [
        "## preprocessing the data for modelling\n",
        "\n",
        "x_cols = ['Depth','chainage']\n",
        "pred_col = 'RQD'\n",
        "\n",
        "X_data = data[x_cols].copy().values\n",
        "Y_data = data[pred_col].copy().values.reshape(-1,1)\n",
        "\n",
        "x_min_max_scaler = preprocessing.MinMaxScaler()\n",
        "y_min_max_scaler = preprocessing.MinMaxScaler()\n",
        "\n",
        "X_scaled = x_min_max_scaler.fit_transform(X_data)\n",
        "Y_scaled = y_min_max_scaler.fit_transform(Y_data) \n",
        "\n",
        "X_scaled = pd.DataFrame(X_scaled,columns=x_cols)\n",
        "Y_scaled = pd.DataFrame(Y_scaled,columns=[pred_col])\n",
        "X_scaled.head()"
      ],
      "execution_count": 21,
      "outputs": [
        {
          "output_type": "execute_result",
          "data": {
            "text/html": [
              "<div>\n",
              "<style scoped>\n",
              "    .dataframe tbody tr th:only-of-type {\n",
              "        vertical-align: middle;\n",
              "    }\n",
              "\n",
              "    .dataframe tbody tr th {\n",
              "        vertical-align: top;\n",
              "    }\n",
              "\n",
              "    .dataframe thead th {\n",
              "        text-align: right;\n",
              "    }\n",
              "</style>\n",
              "<table border=\"1\" class=\"dataframe\">\n",
              "  <thead>\n",
              "    <tr style=\"text-align: right;\">\n",
              "      <th></th>\n",
              "      <th>Depth</th>\n",
              "      <th>chainage</th>\n",
              "    </tr>\n",
              "  </thead>\n",
              "  <tbody>\n",
              "    <tr>\n",
              "      <th>0</th>\n",
              "      <td>0.203629</td>\n",
              "      <td>0.083719</td>\n",
              "    </tr>\n",
              "    <tr>\n",
              "      <th>1</th>\n",
              "      <td>0.324597</td>\n",
              "      <td>0.083719</td>\n",
              "    </tr>\n",
              "    <tr>\n",
              "      <th>2</th>\n",
              "      <td>0.445565</td>\n",
              "      <td>0.083719</td>\n",
              "    </tr>\n",
              "    <tr>\n",
              "      <th>3</th>\n",
              "      <td>0.566532</td>\n",
              "      <td>0.083719</td>\n",
              "    </tr>\n",
              "    <tr>\n",
              "      <th>4</th>\n",
              "      <td>0.687500</td>\n",
              "      <td>0.083719</td>\n",
              "    </tr>\n",
              "  </tbody>\n",
              "</table>\n",
              "</div>"
            ],
            "text/plain": [
              "      Depth  chainage\n",
              "0  0.203629  0.083719\n",
              "1  0.324597  0.083719\n",
              "2  0.445565  0.083719\n",
              "3  0.566532  0.083719\n",
              "4  0.687500  0.083719"
            ]
          },
          "metadata": {
            "tags": []
          },
          "execution_count": 21
        }
      ]
    },
    {
      "cell_type": "code",
      "metadata": {
        "id": "8oxMJKkHMAHq",
        "colab_type": "code",
        "outputId": "e6ee66e2-f897-4e65-eeb3-4116d1fda905",
        "colab": {
          "base_uri": "https://localhost:8080/",
          "height": 198
        }
      },
      "source": [
        "Y_scaled.head()"
      ],
      "execution_count": 22,
      "outputs": [
        {
          "output_type": "execute_result",
          "data": {
            "text/html": [
              "<div>\n",
              "<style scoped>\n",
              "    .dataframe tbody tr th:only-of-type {\n",
              "        vertical-align: middle;\n",
              "    }\n",
              "\n",
              "    .dataframe tbody tr th {\n",
              "        vertical-align: top;\n",
              "    }\n",
              "\n",
              "    .dataframe thead th {\n",
              "        text-align: right;\n",
              "    }\n",
              "</style>\n",
              "<table border=\"1\" class=\"dataframe\">\n",
              "  <thead>\n",
              "    <tr style=\"text-align: right;\">\n",
              "      <th></th>\n",
              "      <th>RQD</th>\n",
              "    </tr>\n",
              "  </thead>\n",
              "  <tbody>\n",
              "    <tr>\n",
              "      <th>0</th>\n",
              "      <td>0.00</td>\n",
              "    </tr>\n",
              "    <tr>\n",
              "      <th>1</th>\n",
              "      <td>0.39</td>\n",
              "    </tr>\n",
              "    <tr>\n",
              "      <th>2</th>\n",
              "      <td>0.54</td>\n",
              "    </tr>\n",
              "    <tr>\n",
              "      <th>3</th>\n",
              "      <td>0.23</td>\n",
              "    </tr>\n",
              "    <tr>\n",
              "      <th>4</th>\n",
              "      <td>0.66</td>\n",
              "    </tr>\n",
              "  </tbody>\n",
              "</table>\n",
              "</div>"
            ],
            "text/plain": [
              "    RQD\n",
              "0  0.00\n",
              "1  0.39\n",
              "2  0.54\n",
              "3  0.23\n",
              "4  0.66"
            ]
          },
          "metadata": {
            "tags": []
          },
          "execution_count": 22
        }
      ]
    },
    {
      "cell_type": "code",
      "metadata": {
        "id": "yFj-hu4COY-j",
        "colab_type": "code",
        "outputId": "fc777774-a8a0-456a-c990-d31efb6b8f98",
        "colab": {
          "base_uri": "https://localhost:8080/",
          "height": 382,
          "referenced_widgets": [
            "1889d7fd128c4881911d820e038cd8bc",
            "e86c66fca47c4deeaecae317550a80d1",
            "1df0a6620dfe4c479301c76a50bf8519",
            "80f382b855b341ffb127a75330ebc83f",
            "c37b2e807bab429dbb8d29289bbbab11",
            "6b5d2398b5354720a7416e75faab5bc4",
            "fa77876aa59542d197ac57587f9ebbca",
            "64edde6bb9d24a319285a9277b349281"
          ]
        }
      },
      "source": [
        "%%time\n",
        "no_of_trees = np.arange(1,50,2)\n",
        "cv_scores = []\n",
        "X_train = X_scaled.values\n",
        "Y_train = Y_scaled.values.ravel()\n",
        "\n",
        "for tree in tqdm_notebook(no_of_trees):\n",
        "  model = RandomForestRegressor(n_estimators = tree)\n",
        "  score = cross_val_score(model,X_train,Y_train,cv=10,scoring='neg_mean_squared_error')\n",
        "  cv_scores.append(-1*np.mean(score))\n",
        "\n",
        "plt.title('Hyperparamter Tuning for Random Forest Model')\n",
        "plt.plot(no_of_trees,cv_scores)\n",
        "plt.xlabel('no of trees')\n",
        "plt.ylabel('cv score')\n",
        "plt.show()"
      ],
      "execution_count": 23,
      "outputs": [
        {
          "output_type": "display_data",
          "data": {
            "application/vnd.jupyter.widget-view+json": {
              "model_id": "1889d7fd128c4881911d820e038cd8bc",
              "version_minor": 0,
              "version_major": 2
            },
            "text/plain": [
              "HBox(children=(IntProgress(value=0, max=25), HTML(value='')))"
            ]
          },
          "metadata": {
            "tags": []
          }
        },
        {
          "output_type": "stream",
          "text": [
            "\n"
          ],
          "name": "stdout"
        },
        {
          "output_type": "display_data",
          "data": {
            "image/png": "[encoded data removed]",
            "text/plain": [
              "<Figure size 432x288 with 1 Axes>"
            ]
          },
          "metadata": {
            "tags": []
          }
        },
        {
          "output_type": "stream",
          "text": [
            "CPU times: user 7.6 s, sys: 51.2 ms, total: 7.65 s\n",
            "Wall time: 7.69 s\n"
          ],
          "name": "stdout"
        }
      ]
    },
    {
      "cell_type": "markdown",
      "metadata": {
        "id": "3ZKHmlUcEKyO",
        "colab_type": "text"
      },
      "source": [
        "## 4. Prediction and Plotting the profile"
      ]
    },
    {
      "cell_type": "code",
      "metadata": {
        "id": "YjLwkF6miPW5",
        "colab_type": "code",
        "outputId": "bffac974-2126-4ef8-a64e-84197bba6f10",
        "colab": {
          "base_uri": "https://localhost:8080/",
          "height": 415
        }
      },
      "source": [
        "%%time\n",
        "model = RandomForestRegressor(n_estimators = 30)\n",
        "show_profile(data,model,x_cols = ['Depth','chainage'], pred_col = 'RQD',resolution=20)"
      ],
      "execution_count": 100,
      "outputs": [
        {
          "output_type": "display_data",
          "data": {
            "image/png": "[encoded data removed]",
            "text/plain": [
              "<Figure size 1080x360 with 2 Axes>"
            ]
          },
          "metadata": {
            "tags": []
          }
        },
        {
          "output_type": "stream",
          "text": [
            "CPU times: user 1.13 s, sys: 12.2 ms, total: 1.14 s\n",
            "Wall time: 1.15 s\n"
          ],
          "name": "stdout"
        }
      ]
    },
    {
      "cell_type": "code",
      "metadata": {
        "id": "mIz71z04EvH1",
        "colab_type": "code",
        "outputId": "7939cff1-b82e-47f5-91d5-81fb452dc05f",
        "colab": {
          "base_uri": "https://localhost:8080/",
          "height": 378
        }
      },
      "source": [
        "model = RandomForestRegressor(n_estimators = 10)\n",
        "show_profile(data,model,x_cols = ['Depth','chainage'], pred_col = 'UCS',resolution=20)"
      ],
      "execution_count": 25,
      "outputs": [
        {
          "output_type": "display_data",
          "data": {
            "image/png": "[encoded data removed]",
            "text/plain": [
              "<Figure size 1080x360 with 2 Axes>"
            ]
          },
          "metadata": {
            "tags": []
          }
        }
      ]
    },
    {
      "cell_type": "code",
      "metadata": {
        "id": "QHWMmLE3E-Ct",
        "colab_type": "code",
        "outputId": "f44f1a6b-5f56-46eb-c72d-35bfd98d50e5",
        "colab": {
          "base_uri": "https://localhost:8080/",
          "height": 378
        }
      },
      "source": [
        "show_profile(data,model,x_cols = ['Depth','chainage'], pred_col = 'rmr',resolution=20)"
      ],
      "execution_count": 26,
      "outputs": [
        {
          "output_type": "display_data",
          "data": {
            "image/png": "[encoded data removed]",
            "text/plain": [
              "<Figure size 1080x360 with 2 Axes>"
            ]
          },
          "metadata": {
            "tags": []
          }
        }
      ]
    }
  ]
}